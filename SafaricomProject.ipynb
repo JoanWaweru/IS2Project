{
  "nbformat": 4,
  "nbformat_minor": 0,
  "metadata": {
    "colab": {
      "provenance": [],
      "authorship_tag": "ABX9TyM68G04ph00JgJlM4vDbL/u",
      "include_colab_link": true
    },
    "kernelspec": {
      "name": "python3",
      "display_name": "Python 3"
    },
    "language_info": {
      "name": "python"
    }
  },
  "cells": [
    {
      "cell_type": "markdown",
      "metadata": {
        "id": "view-in-github",
        "colab_type": "text"
      },
      "source": [
        "<a href=\"https://colab.research.google.com/github/JoanWaweru/Sentiment-Analysis-for-Code-Switched-Language/blob/main/SafaricomProject.ipynb\" target=\"_parent\"><img src=\"https://colab.research.google.com/assets/colab-badge.svg\" alt=\"Open In Colab\"/></a>"
      ]
    },
    {
      "cell_type": "markdown",
      "source": [
        "Reading Dataset "
      ],
      "metadata": {
        "id": "AqlyY3SkUqDA"
      }
    },
    {
      "cell_type": "code",
      "source": [
        "!pip install pandas"
      ],
      "metadata": {
        "colab": {
          "base_uri": "https://localhost:8080/"
        },
        "id": "1HZk0cjYKyTU",
        "outputId": "2b207f93-8bd5-4e3f-83a0-a0258db637a4"
      },
      "execution_count": 1,
      "outputs": [
        {
          "output_type": "stream",
          "name": "stdout",
          "text": [
            "Looking in indexes: https://pypi.org/simple, https://us-python.pkg.dev/colab-wheels/public/simple/\n",
            "Requirement already satisfied: pandas in /usr/local/lib/python3.7/dist-packages (1.3.5)\n",
            "Requirement already satisfied: python-dateutil>=2.7.3 in /usr/local/lib/python3.7/dist-packages (from pandas) (2.8.2)\n",
            "Requirement already satisfied: pytz>=2017.3 in /usr/local/lib/python3.7/dist-packages (from pandas) (2022.4)\n",
            "Requirement already satisfied: numpy>=1.17.3 in /usr/local/lib/python3.7/dist-packages (from pandas) (1.21.6)\n",
            "Requirement already satisfied: six>=1.5 in /usr/local/lib/python3.7/dist-packages (from python-dateutil>=2.7.3->pandas) (1.15.0)\n"
          ]
        }
      ]
    },
    {
      "cell_type": "code",
      "source": [
        "import numpy as np\n",
        "import pandas as pd"
      ],
      "metadata": {
        "id": "FF7lkTvWK3_m"
      },
      "execution_count": 2,
      "outputs": []
    },
    {
      "cell_type": "code",
      "source": [
        "# Read csv file into a pandas dataframe\n",
        "from google.colab import files\n",
        "uploaded = files.upload()"
      ],
      "metadata": {
        "colab": {
          "base_uri": "https://localhost:8080/",
          "height": 73
        },
        "id": "Z-KmY2IUK-ZN",
        "outputId": "ac45d808-bd13-4b81-8ad7-348ddd31eea5"
      },
      "execution_count": 3,
      "outputs": [
        {
          "output_type": "display_data",
          "data": {
            "text/plain": [
              "<IPython.core.display.HTML object>"
            ],
            "text/html": [
              "\n",
              "     <input type=\"file\" id=\"files-2afccbb4-2da5-445a-8f43-4a7981932ab4\" name=\"files[]\" multiple disabled\n",
              "        style=\"border:none\" />\n",
              "     <output id=\"result-2afccbb4-2da5-445a-8f43-4a7981932ab4\">\n",
              "      Upload widget is only available when the cell has been executed in the\n",
              "      current browser session. Please rerun this cell to enable.\n",
              "      </output>\n",
              "      <script>// Copyright 2017 Google LLC\n",
              "//\n",
              "// Licensed under the Apache License, Version 2.0 (the \"License\");\n",
              "// you may not use this file except in compliance with the License.\n",
              "// You may obtain a copy of the License at\n",
              "//\n",
              "//      http://www.apache.org/licenses/LICENSE-2.0\n",
              "//\n",
              "// Unless required by applicable law or agreed to in writing, software\n",
              "// distributed under the License is distributed on an \"AS IS\" BASIS,\n",
              "// WITHOUT WARRANTIES OR CONDITIONS OF ANY KIND, either express or implied.\n",
              "// See the License for the specific language governing permissions and\n",
              "// limitations under the License.\n",
              "\n",
              "/**\n",
              " * @fileoverview Helpers for google.colab Python module.\n",
              " */\n",
              "(function(scope) {\n",
              "function span(text, styleAttributes = {}) {\n",
              "  const element = document.createElement('span');\n",
              "  element.textContent = text;\n",
              "  for (const key of Object.keys(styleAttributes)) {\n",
              "    element.style[key] = styleAttributes[key];\n",
              "  }\n",
              "  return element;\n",
              "}\n",
              "\n",
              "// Max number of bytes which will be uploaded at a time.\n",
              "const MAX_PAYLOAD_SIZE = 100 * 1024;\n",
              "\n",
              "function _uploadFiles(inputId, outputId) {\n",
              "  const steps = uploadFilesStep(inputId, outputId);\n",
              "  const outputElement = document.getElementById(outputId);\n",
              "  // Cache steps on the outputElement to make it available for the next call\n",
              "  // to uploadFilesContinue from Python.\n",
              "  outputElement.steps = steps;\n",
              "\n",
              "  return _uploadFilesContinue(outputId);\n",
              "}\n",
              "\n",
              "// This is roughly an async generator (not supported in the browser yet),\n",
              "// where there are multiple asynchronous steps and the Python side is going\n",
              "// to poll for completion of each step.\n",
              "// This uses a Promise to block the python side on completion of each step,\n",
              "// then passes the result of the previous step as the input to the next step.\n",
              "function _uploadFilesContinue(outputId) {\n",
              "  const outputElement = document.getElementById(outputId);\n",
              "  const steps = outputElement.steps;\n",
              "\n",
              "  const next = steps.next(outputElement.lastPromiseValue);\n",
              "  return Promise.resolve(next.value.promise).then((value) => {\n",
              "    // Cache the last promise value to make it available to the next\n",
              "    // step of the generator.\n",
              "    outputElement.lastPromiseValue = value;\n",
              "    return next.value.response;\n",
              "  });\n",
              "}\n",
              "\n",
              "/**\n",
              " * Generator function which is called between each async step of the upload\n",
              " * process.\n",
              " * @param {string} inputId Element ID of the input file picker element.\n",
              " * @param {string} outputId Element ID of the output display.\n",
              " * @return {!Iterable<!Object>} Iterable of next steps.\n",
              " */\n",
              "function* uploadFilesStep(inputId, outputId) {\n",
              "  const inputElement = document.getElementById(inputId);\n",
              "  inputElement.disabled = false;\n",
              "\n",
              "  const outputElement = document.getElementById(outputId);\n",
              "  outputElement.innerHTML = '';\n",
              "\n",
              "  const pickedPromise = new Promise((resolve) => {\n",
              "    inputElement.addEventListener('change', (e) => {\n",
              "      resolve(e.target.files);\n",
              "    });\n",
              "  });\n",
              "\n",
              "  const cancel = document.createElement('button');\n",
              "  inputElement.parentElement.appendChild(cancel);\n",
              "  cancel.textContent = 'Cancel upload';\n",
              "  const cancelPromise = new Promise((resolve) => {\n",
              "    cancel.onclick = () => {\n",
              "      resolve(null);\n",
              "    };\n",
              "  });\n",
              "\n",
              "  // Wait for the user to pick the files.\n",
              "  const files = yield {\n",
              "    promise: Promise.race([pickedPromise, cancelPromise]),\n",
              "    response: {\n",
              "      action: 'starting',\n",
              "    }\n",
              "  };\n",
              "\n",
              "  cancel.remove();\n",
              "\n",
              "  // Disable the input element since further picks are not allowed.\n",
              "  inputElement.disabled = true;\n",
              "\n",
              "  if (!files) {\n",
              "    return {\n",
              "      response: {\n",
              "        action: 'complete',\n",
              "      }\n",
              "    };\n",
              "  }\n",
              "\n",
              "  for (const file of files) {\n",
              "    const li = document.createElement('li');\n",
              "    li.append(span(file.name, {fontWeight: 'bold'}));\n",
              "    li.append(span(\n",
              "        `(${file.type || 'n/a'}) - ${file.size} bytes, ` +\n",
              "        `last modified: ${\n",
              "            file.lastModifiedDate ? file.lastModifiedDate.toLocaleDateString() :\n",
              "                                    'n/a'} - `));\n",
              "    const percent = span('0% done');\n",
              "    li.appendChild(percent);\n",
              "\n",
              "    outputElement.appendChild(li);\n",
              "\n",
              "    const fileDataPromise = new Promise((resolve) => {\n",
              "      const reader = new FileReader();\n",
              "      reader.onload = (e) => {\n",
              "        resolve(e.target.result);\n",
              "      };\n",
              "      reader.readAsArrayBuffer(file);\n",
              "    });\n",
              "    // Wait for the data to be ready.\n",
              "    let fileData = yield {\n",
              "      promise: fileDataPromise,\n",
              "      response: {\n",
              "        action: 'continue',\n",
              "      }\n",
              "    };\n",
              "\n",
              "    // Use a chunked sending to avoid message size limits. See b/62115660.\n",
              "    let position = 0;\n",
              "    do {\n",
              "      const length = Math.min(fileData.byteLength - position, MAX_PAYLOAD_SIZE);\n",
              "      const chunk = new Uint8Array(fileData, position, length);\n",
              "      position += length;\n",
              "\n",
              "      const base64 = btoa(String.fromCharCode.apply(null, chunk));\n",
              "      yield {\n",
              "        response: {\n",
              "          action: 'append',\n",
              "          file: file.name,\n",
              "          data: base64,\n",
              "        },\n",
              "      };\n",
              "\n",
              "      let percentDone = fileData.byteLength === 0 ?\n",
              "          100 :\n",
              "          Math.round((position / fileData.byteLength) * 100);\n",
              "      percent.textContent = `${percentDone}% done`;\n",
              "\n",
              "    } while (position < fileData.byteLength);\n",
              "  }\n",
              "\n",
              "  // All done.\n",
              "  yield {\n",
              "    response: {\n",
              "      action: 'complete',\n",
              "    }\n",
              "  };\n",
              "}\n",
              "\n",
              "scope.google = scope.google || {};\n",
              "scope.google.colab = scope.google.colab || {};\n",
              "scope.google.colab._files = {\n",
              "  _uploadFiles,\n",
              "  _uploadFilesContinue,\n",
              "};\n",
              "})(self);\n",
              "</script> "
            ]
          },
          "metadata": {}
        },
        {
          "output_type": "stream",
          "name": "stdout",
          "text": [
            "Saving safaricomDataset.csv to safaricomDataset.csv\n"
          ]
        }
      ]
    },
    {
      "cell_type": "code",
      "source": [
        "df = pd.read_csv('safaricomDataset.csv')\n",
        "df.head()"
      ],
      "metadata": {
        "colab": {
          "base_uri": "https://localhost:8080/",
          "height": 206
        },
        "id": "3vmKstfoWCqE",
        "outputId": "61984899-73da-4ab6-9b7f-73ee76e3a1a0"
      },
      "execution_count": 4,
      "outputs": [
        {
          "output_type": "execute_result",
          "data": {
            "text/plain": [
              "   Unnamed: 0                       Date            User  \\\n",
              "0           0  2022-10-23 23:37:49+00:00        samsabwa   \n",
              "1           1  2022-10-23 23:36:25+00:00          zac124   \n",
              "2           2  2022-10-23 23:19:35+00:00        tonui_ke   \n",
              "3           3  2022-10-23 22:14:19+00:00  Safaricom_Care   \n",
              "4           4  2022-10-23 22:01:01+00:00    martinkanini   \n",
              "\n",
              "                                               Tweet  \n",
              "0  @waxspell @Safaricom_Care @AskPayPal sponyo al...  \n",
              "1  @Safaricom_Care @SafaricomPLC \\n\\nwhat are off...  \n",
              "2                           @Safaricom_Care check DM  \n",
              "3  @martinkanini Hello Martin, please DM https://...  \n",
              "4  @Safaricom_Care am getting some OTP several of...  "
            ],
            "text/html": [
              "\n",
              "  <div id=\"df-b6ba582d-e387-4f05-b6f9-25809ee3bdb8\">\n",
              "    <div class=\"colab-df-container\">\n",
              "      <div>\n",
              "<style scoped>\n",
              "    .dataframe tbody tr th:only-of-type {\n",
              "        vertical-align: middle;\n",
              "    }\n",
              "\n",
              "    .dataframe tbody tr th {\n",
              "        vertical-align: top;\n",
              "    }\n",
              "\n",
              "    .dataframe thead th {\n",
              "        text-align: right;\n",
              "    }\n",
              "</style>\n",
              "<table border=\"1\" class=\"dataframe\">\n",
              "  <thead>\n",
              "    <tr style=\"text-align: right;\">\n",
              "      <th></th>\n",
              "      <th>Unnamed: 0</th>\n",
              "      <th>Date</th>\n",
              "      <th>User</th>\n",
              "      <th>Tweet</th>\n",
              "    </tr>\n",
              "  </thead>\n",
              "  <tbody>\n",
              "    <tr>\n",
              "      <th>0</th>\n",
              "      <td>0</td>\n",
              "      <td>2022-10-23 23:37:49+00:00</td>\n",
              "      <td>samsabwa</td>\n",
              "      <td>@waxspell @Safaricom_Care @AskPayPal sponyo al...</td>\n",
              "    </tr>\n",
              "    <tr>\n",
              "      <th>1</th>\n",
              "      <td>1</td>\n",
              "      <td>2022-10-23 23:36:25+00:00</td>\n",
              "      <td>zac124</td>\n",
              "      <td>@Safaricom_Care @SafaricomPLC \\n\\nwhat are off...</td>\n",
              "    </tr>\n",
              "    <tr>\n",
              "      <th>2</th>\n",
              "      <td>2</td>\n",
              "      <td>2022-10-23 23:19:35+00:00</td>\n",
              "      <td>tonui_ke</td>\n",
              "      <td>@Safaricom_Care check DM</td>\n",
              "    </tr>\n",
              "    <tr>\n",
              "      <th>3</th>\n",
              "      <td>3</td>\n",
              "      <td>2022-10-23 22:14:19+00:00</td>\n",
              "      <td>Safaricom_Care</td>\n",
              "      <td>@martinkanini Hello Martin, please DM https://...</td>\n",
              "    </tr>\n",
              "    <tr>\n",
              "      <th>4</th>\n",
              "      <td>4</td>\n",
              "      <td>2022-10-23 22:01:01+00:00</td>\n",
              "      <td>martinkanini</td>\n",
              "      <td>@Safaricom_Care am getting some OTP several of...</td>\n",
              "    </tr>\n",
              "  </tbody>\n",
              "</table>\n",
              "</div>\n",
              "      <button class=\"colab-df-convert\" onclick=\"convertToInteractive('df-b6ba582d-e387-4f05-b6f9-25809ee3bdb8')\"\n",
              "              title=\"Convert this dataframe to an interactive table.\"\n",
              "              style=\"display:none;\">\n",
              "        \n",
              "  <svg xmlns=\"http://www.w3.org/2000/svg\" height=\"24px\"viewBox=\"0 0 24 24\"\n",
              "       width=\"24px\">\n",
              "    <path d=\"M0 0h24v24H0V0z\" fill=\"none\"/>\n",
              "    <path d=\"M18.56 5.44l.94 2.06.94-2.06 2.06-.94-2.06-.94-.94-2.06-.94 2.06-2.06.94zm-11 1L8.5 8.5l.94-2.06 2.06-.94-2.06-.94L8.5 2.5l-.94 2.06-2.06.94zm10 10l.94 2.06.94-2.06 2.06-.94-2.06-.94-.94-2.06-.94 2.06-2.06.94z\"/><path d=\"M17.41 7.96l-1.37-1.37c-.4-.4-.92-.59-1.43-.59-.52 0-1.04.2-1.43.59L10.3 9.45l-7.72 7.72c-.78.78-.78 2.05 0 2.83L4 21.41c.39.39.9.59 1.41.59.51 0 1.02-.2 1.41-.59l7.78-7.78 2.81-2.81c.8-.78.8-2.07 0-2.86zM5.41 20L4 18.59l7.72-7.72 1.47 1.35L5.41 20z\"/>\n",
              "  </svg>\n",
              "      </button>\n",
              "      \n",
              "  <style>\n",
              "    .colab-df-container {\n",
              "      display:flex;\n",
              "      flex-wrap:wrap;\n",
              "      gap: 12px;\n",
              "    }\n",
              "\n",
              "    .colab-df-convert {\n",
              "      background-color: #E8F0FE;\n",
              "      border: none;\n",
              "      border-radius: 50%;\n",
              "      cursor: pointer;\n",
              "      display: none;\n",
              "      fill: #1967D2;\n",
              "      height: 32px;\n",
              "      padding: 0 0 0 0;\n",
              "      width: 32px;\n",
              "    }\n",
              "\n",
              "    .colab-df-convert:hover {\n",
              "      background-color: #E2EBFA;\n",
              "      box-shadow: 0px 1px 2px rgba(60, 64, 67, 0.3), 0px 1px 3px 1px rgba(60, 64, 67, 0.15);\n",
              "      fill: #174EA6;\n",
              "    }\n",
              "\n",
              "    [theme=dark] .colab-df-convert {\n",
              "      background-color: #3B4455;\n",
              "      fill: #D2E3FC;\n",
              "    }\n",
              "\n",
              "    [theme=dark] .colab-df-convert:hover {\n",
              "      background-color: #434B5C;\n",
              "      box-shadow: 0px 1px 3px 1px rgba(0, 0, 0, 0.15);\n",
              "      filter: drop-shadow(0px 1px 2px rgba(0, 0, 0, 0.3));\n",
              "      fill: #FFFFFF;\n",
              "    }\n",
              "  </style>\n",
              "\n",
              "      <script>\n",
              "        const buttonEl =\n",
              "          document.querySelector('#df-b6ba582d-e387-4f05-b6f9-25809ee3bdb8 button.colab-df-convert');\n",
              "        buttonEl.style.display =\n",
              "          google.colab.kernel.accessAllowed ? 'block' : 'none';\n",
              "\n",
              "        async function convertToInteractive(key) {\n",
              "          const element = document.querySelector('#df-b6ba582d-e387-4f05-b6f9-25809ee3bdb8');\n",
              "          const dataTable =\n",
              "            await google.colab.kernel.invokeFunction('convertToInteractive',\n",
              "                                                     [key], {});\n",
              "          if (!dataTable) return;\n",
              "\n",
              "          const docLinkHtml = 'Like what you see? Visit the ' +\n",
              "            '<a target=\"_blank\" href=https://colab.research.google.com/notebooks/data_table.ipynb>data table notebook</a>'\n",
              "            + ' to learn more about interactive tables.';\n",
              "          element.innerHTML = '';\n",
              "          dataTable['output_type'] = 'display_data';\n",
              "          await google.colab.output.renderOutput(dataTable, element);\n",
              "          const docLink = document.createElement('div');\n",
              "          docLink.innerHTML = docLinkHtml;\n",
              "          element.appendChild(docLink);\n",
              "        }\n",
              "      </script>\n",
              "    </div>\n",
              "  </div>\n",
              "  "
            ]
          },
          "metadata": {},
          "execution_count": 4
        }
      ]
    },
    {
      "cell_type": "code",
      "source": [
        "df.columns"
      ],
      "metadata": {
        "colab": {
          "base_uri": "https://localhost:8080/"
        },
        "id": "MFT9IG46XnmQ",
        "outputId": "06a0b1c6-1791-4974-ed09-d2d7523aa324"
      },
      "execution_count": 5,
      "outputs": [
        {
          "output_type": "execute_result",
          "data": {
            "text/plain": [
              "Index(['Unnamed: 0', 'Date', 'User', 'Tweet'], dtype='object')"
            ]
          },
          "metadata": {},
          "execution_count": 5
        }
      ]
    },
    {
      "cell_type": "code",
      "source": [
        "df.shape"
      ],
      "metadata": {
        "colab": {
          "base_uri": "https://localhost:8080/"
        },
        "id": "CRz6DGnyX1WX",
        "outputId": "7e65eb61-f3bf-47f2-f546-f74f5487d161"
      },
      "execution_count": 6,
      "outputs": [
        {
          "output_type": "execute_result",
          "data": {
            "text/plain": [
              "(5000, 4)"
            ]
          },
          "metadata": {},
          "execution_count": 6
        }
      ]
    },
    {
      "cell_type": "code",
      "source": [
        "tweets_df = df[[\"Date\", \"User\", \"Tweet\"]]\n",
        "tweets_df.head()"
      ],
      "metadata": {
        "id": "-ohcYvfDYF3P",
        "colab": {
          "base_uri": "https://localhost:8080/",
          "height": 206
        },
        "outputId": "50dc16f9-b28e-4541-ab0c-ba577567ead2"
      },
      "execution_count": 7,
      "outputs": [
        {
          "output_type": "execute_result",
          "data": {
            "text/plain": [
              "                        Date            User  \\\n",
              "0  2022-10-23 23:37:49+00:00        samsabwa   \n",
              "1  2022-10-23 23:36:25+00:00          zac124   \n",
              "2  2022-10-23 23:19:35+00:00        tonui_ke   \n",
              "3  2022-10-23 22:14:19+00:00  Safaricom_Care   \n",
              "4  2022-10-23 22:01:01+00:00    martinkanini   \n",
              "\n",
              "                                               Tweet  \n",
              "0  @waxspell @Safaricom_Care @AskPayPal sponyo al...  \n",
              "1  @Safaricom_Care @SafaricomPLC \\n\\nwhat are off...  \n",
              "2                           @Safaricom_Care check DM  \n",
              "3  @martinkanini Hello Martin, please DM https://...  \n",
              "4  @Safaricom_Care am getting some OTP several of...  "
            ],
            "text/html": [
              "\n",
              "  <div id=\"df-4e1a7690-54eb-4263-b009-4935630712a0\">\n",
              "    <div class=\"colab-df-container\">\n",
              "      <div>\n",
              "<style scoped>\n",
              "    .dataframe tbody tr th:only-of-type {\n",
              "        vertical-align: middle;\n",
              "    }\n",
              "\n",
              "    .dataframe tbody tr th {\n",
              "        vertical-align: top;\n",
              "    }\n",
              "\n",
              "    .dataframe thead th {\n",
              "        text-align: right;\n",
              "    }\n",
              "</style>\n",
              "<table border=\"1\" class=\"dataframe\">\n",
              "  <thead>\n",
              "    <tr style=\"text-align: right;\">\n",
              "      <th></th>\n",
              "      <th>Date</th>\n",
              "      <th>User</th>\n",
              "      <th>Tweet</th>\n",
              "    </tr>\n",
              "  </thead>\n",
              "  <tbody>\n",
              "    <tr>\n",
              "      <th>0</th>\n",
              "      <td>2022-10-23 23:37:49+00:00</td>\n",
              "      <td>samsabwa</td>\n",
              "      <td>@waxspell @Safaricom_Care @AskPayPal sponyo al...</td>\n",
              "    </tr>\n",
              "    <tr>\n",
              "      <th>1</th>\n",
              "      <td>2022-10-23 23:36:25+00:00</td>\n",
              "      <td>zac124</td>\n",
              "      <td>@Safaricom_Care @SafaricomPLC \\n\\nwhat are off...</td>\n",
              "    </tr>\n",
              "    <tr>\n",
              "      <th>2</th>\n",
              "      <td>2022-10-23 23:19:35+00:00</td>\n",
              "      <td>tonui_ke</td>\n",
              "      <td>@Safaricom_Care check DM</td>\n",
              "    </tr>\n",
              "    <tr>\n",
              "      <th>3</th>\n",
              "      <td>2022-10-23 22:14:19+00:00</td>\n",
              "      <td>Safaricom_Care</td>\n",
              "      <td>@martinkanini Hello Martin, please DM https://...</td>\n",
              "    </tr>\n",
              "    <tr>\n",
              "      <th>4</th>\n",
              "      <td>2022-10-23 22:01:01+00:00</td>\n",
              "      <td>martinkanini</td>\n",
              "      <td>@Safaricom_Care am getting some OTP several of...</td>\n",
              "    </tr>\n",
              "  </tbody>\n",
              "</table>\n",
              "</div>\n",
              "      <button class=\"colab-df-convert\" onclick=\"convertToInteractive('df-4e1a7690-54eb-4263-b009-4935630712a0')\"\n",
              "              title=\"Convert this dataframe to an interactive table.\"\n",
              "              style=\"display:none;\">\n",
              "        \n",
              "  <svg xmlns=\"http://www.w3.org/2000/svg\" height=\"24px\"viewBox=\"0 0 24 24\"\n",
              "       width=\"24px\">\n",
              "    <path d=\"M0 0h24v24H0V0z\" fill=\"none\"/>\n",
              "    <path d=\"M18.56 5.44l.94 2.06.94-2.06 2.06-.94-2.06-.94-.94-2.06-.94 2.06-2.06.94zm-11 1L8.5 8.5l.94-2.06 2.06-.94-2.06-.94L8.5 2.5l-.94 2.06-2.06.94zm10 10l.94 2.06.94-2.06 2.06-.94-2.06-.94-.94-2.06-.94 2.06-2.06.94z\"/><path d=\"M17.41 7.96l-1.37-1.37c-.4-.4-.92-.59-1.43-.59-.52 0-1.04.2-1.43.59L10.3 9.45l-7.72 7.72c-.78.78-.78 2.05 0 2.83L4 21.41c.39.39.9.59 1.41.59.51 0 1.02-.2 1.41-.59l7.78-7.78 2.81-2.81c.8-.78.8-2.07 0-2.86zM5.41 20L4 18.59l7.72-7.72 1.47 1.35L5.41 20z\"/>\n",
              "  </svg>\n",
              "      </button>\n",
              "      \n",
              "  <style>\n",
              "    .colab-df-container {\n",
              "      display:flex;\n",
              "      flex-wrap:wrap;\n",
              "      gap: 12px;\n",
              "    }\n",
              "\n",
              "    .colab-df-convert {\n",
              "      background-color: #E8F0FE;\n",
              "      border: none;\n",
              "      border-radius: 50%;\n",
              "      cursor: pointer;\n",
              "      display: none;\n",
              "      fill: #1967D2;\n",
              "      height: 32px;\n",
              "      padding: 0 0 0 0;\n",
              "      width: 32px;\n",
              "    }\n",
              "\n",
              "    .colab-df-convert:hover {\n",
              "      background-color: #E2EBFA;\n",
              "      box-shadow: 0px 1px 2px rgba(60, 64, 67, 0.3), 0px 1px 3px 1px rgba(60, 64, 67, 0.15);\n",
              "      fill: #174EA6;\n",
              "    }\n",
              "\n",
              "    [theme=dark] .colab-df-convert {\n",
              "      background-color: #3B4455;\n",
              "      fill: #D2E3FC;\n",
              "    }\n",
              "\n",
              "    [theme=dark] .colab-df-convert:hover {\n",
              "      background-color: #434B5C;\n",
              "      box-shadow: 0px 1px 3px 1px rgba(0, 0, 0, 0.15);\n",
              "      filter: drop-shadow(0px 1px 2px rgba(0, 0, 0, 0.3));\n",
              "      fill: #FFFFFF;\n",
              "    }\n",
              "  </style>\n",
              "\n",
              "      <script>\n",
              "        const buttonEl =\n",
              "          document.querySelector('#df-4e1a7690-54eb-4263-b009-4935630712a0 button.colab-df-convert');\n",
              "        buttonEl.style.display =\n",
              "          google.colab.kernel.accessAllowed ? 'block' : 'none';\n",
              "\n",
              "        async function convertToInteractive(key) {\n",
              "          const element = document.querySelector('#df-4e1a7690-54eb-4263-b009-4935630712a0');\n",
              "          const dataTable =\n",
              "            await google.colab.kernel.invokeFunction('convertToInteractive',\n",
              "                                                     [key], {});\n",
              "          if (!dataTable) return;\n",
              "\n",
              "          const docLinkHtml = 'Like what you see? Visit the ' +\n",
              "            '<a target=\"_blank\" href=https://colab.research.google.com/notebooks/data_table.ipynb>data table notebook</a>'\n",
              "            + ' to learn more about interactive tables.';\n",
              "          element.innerHTML = '';\n",
              "          dataTable['output_type'] = 'display_data';\n",
              "          await google.colab.output.renderOutput(dataTable, element);\n",
              "          const docLink = document.createElement('div');\n",
              "          docLink.innerHTML = docLinkHtml;\n",
              "          element.appendChild(docLink);\n",
              "        }\n",
              "      </script>\n",
              "    </div>\n",
              "  </div>\n",
              "  "
            ]
          },
          "metadata": {},
          "execution_count": 7
        }
      ]
    },
    {
      "cell_type": "code",
      "source": [
        "from sklearn import utils\n",
        "tweets_df.shape"
      ],
      "metadata": {
        "id": "FIEg-0RpYJlt",
        "colab": {
          "base_uri": "https://localhost:8080/"
        },
        "outputId": "980c00f7-21f3-4e7d-d8f4-a182f8f8fb35"
      },
      "execution_count": 8,
      "outputs": [
        {
          "output_type": "execute_result",
          "data": {
            "text/plain": [
              "(5000, 3)"
            ]
          },
          "metadata": {},
          "execution_count": 8
        }
      ]
    },
    {
      "cell_type": "markdown",
      "source": [
        "Preprocessing and Cleaning of the Dataset "
      ],
      "metadata": {
        "id": "1NFIf7e3Y9mK"
      }
    },
    {
      "cell_type": "code",
      "source": [
        "import nltk\n",
        "from nltk.tokenize import word_tokenize"
      ],
      "metadata": {
        "id": "31oz3sSaY9HA"
      },
      "execution_count": 9,
      "outputs": []
    },
    {
      "cell_type": "code",
      "source": [
        "nltk.download('punkt')"
      ],
      "metadata": {
        "colab": {
          "base_uri": "https://localhost:8080/"
        },
        "id": "BHnxrYOSaLu7",
        "outputId": "b05ca92d-6411-462b-b477-9bccc957b4bf"
      },
      "execution_count": 10,
      "outputs": [
        {
          "output_type": "stream",
          "name": "stderr",
          "text": [
            "[nltk_data] Downloading package punkt to /root/nltk_data...\n",
            "[nltk_data]   Unzipping tokenizers/punkt.zip.\n"
          ]
        },
        {
          "output_type": "execute_result",
          "data": {
            "text/plain": [
              "True"
            ]
          },
          "metadata": {},
          "execution_count": 10
        }
      ]
    },
    {
      "cell_type": "code",
      "source": [
        "!pip install emoji"
      ],
      "metadata": {
        "colab": {
          "base_uri": "https://localhost:8080/"
        },
        "id": "AhJsCN80aNZO",
        "outputId": "80c2062b-a23a-422e-f5b8-ad6fe06c9ebd"
      },
      "execution_count": 11,
      "outputs": [
        {
          "output_type": "stream",
          "name": "stdout",
          "text": [
            "Looking in indexes: https://pypi.org/simple, https://us-python.pkg.dev/colab-wheels/public/simple/\n",
            "Collecting emoji\n",
            "  Downloading emoji-2.1.0.tar.gz (216 kB)\n",
            "\u001b[K     |████████████████████████████████| 216 kB 7.9 MB/s \n",
            "\u001b[?25hBuilding wheels for collected packages: emoji\n",
            "  Building wheel for emoji (setup.py) ... \u001b[?25l\u001b[?25hdone\n",
            "  Created wheel for emoji: filename=emoji-2.1.0-py3-none-any.whl size=212392 sha256=bdcacbde4cd6ed0efd4c24b7190969fa8510cb452c80e3584e45f84ee3b95c97\n",
            "  Stored in directory: /root/.cache/pip/wheels/77/75/99/51c2a119f4cfd3af7b49cc57e4f737bed7e40b348a85d82804\n",
            "Successfully built emoji\n",
            "Installing collected packages: emoji\n",
            "Successfully installed emoji-2.1.0\n"
          ]
        }
      ]
    },
    {
      "cell_type": "code",
      "source": [
        "import re\n",
        "import emoji\n",
        "def tokenize_tweets(text):\n",
        "  #remove emojis\n",
        "  text = emoji.demojize(text)\n",
        "  #remove urls\n",
        "  text = re.sub('http[s]?://\\S+', '', text)\n",
        "  #remove punctuations\n",
        "  text = re.sub(r'[^\\w\\s]','',text)\n",
        "  #strip numbers\n",
        "  text = re.sub('[0-9]+', '', text)\n",
        "  text = word_tokenize(text)\n",
        "  \n",
        "  return text\n",
        "tweets_df[\"Tweets\"] = tweets_df[\"Tweet\"].apply(lambda x: tokenize_tweets(x))\n",
        "from nltk.corpus import stopwords\n",
        "nltk.download('stopwords')\n",
        "stop = stopwords.words(\"english\")\n",
        "tweets_df[\"stop_words\"] = tweets_df[\"Tweets\"].apply(lambda x: [w for w in x if w in stop])\n",
        "tweets_df[\"Tweets\"] = tweets_df[\"Tweets\"].apply(lambda x: [w.lower() for w in x if w not in stop])\n",
        "\n",
        "tweets_df.head(10)"
      ],
      "metadata": {
        "colab": {
          "base_uri": "https://localhost:8080/",
          "height": 615
        },
        "id": "XxKF0TlbaSXd",
        "outputId": "f0746fae-c5dd-45bc-c8ab-c0da5474cdc2"
      },
      "execution_count": 12,
      "outputs": [
        {
          "output_type": "stream",
          "name": "stderr",
          "text": [
            "[nltk_data] Downloading package stopwords to /root/nltk_data...\n",
            "[nltk_data]   Unzipping corpora/stopwords.zip.\n"
          ]
        },
        {
          "output_type": "execute_result",
          "data": {
            "text/plain": [
              "                        Date            User  \\\n",
              "0  2022-10-23 23:37:49+00:00        samsabwa   \n",
              "1  2022-10-23 23:36:25+00:00          zac124   \n",
              "2  2022-10-23 23:19:35+00:00        tonui_ke   \n",
              "3  2022-10-23 22:14:19+00:00  Safaricom_Care   \n",
              "4  2022-10-23 22:01:01+00:00    martinkanini   \n",
              "5  2022-10-23 21:48:31+00:00      Reyherb254   \n",
              "6  2022-10-23 21:29:20+00:00     Daktari_Kip   \n",
              "7  2022-10-23 21:20:20+00:00  Safaricom_Care   \n",
              "8  2022-10-23 21:11:45+00:00        RotinhoD   \n",
              "9  2022-10-23 21:08:48+00:00         c_hir_i   \n",
              "\n",
              "                                               Tweet  \\\n",
              "0  @waxspell @Safaricom_Care @AskPayPal sponyo al...   \n",
              "1  @Safaricom_Care @SafaricomPLC \\n\\nwhat are off...   \n",
              "2                           @Safaricom_Care check DM   \n",
              "3  @martinkanini Hello Martin, please DM https://...   \n",
              "4  @Safaricom_Care am getting some OTP several of...   \n",
              "5  @Cutie_254 @Safaricom_Care @iconic_gravity @it...   \n",
              "6                                 Fb @Safaricom_Care   \n",
              "7  @c_hir_i Hello, you can view detailed data usa...   \n",
              "8  @Safaricom_Care  message kaa hii ni kitu mnaan...   \n",
              "9  #saf_for_you\\n🫤🙄I guess niko #6G \\n@Safaricom_...   \n",
              "\n",
              "                                              Tweets  \\\n",
              "0  [waxspell, safaricom_care, askpaypal, sponyo, ...   \n",
              "1  [safaricom_care, safaricomplc, official, roami...   \n",
              "2                        [safaricom_care, check, dm]   \n",
              "3  [martinkanini, hello, martin, please, dm, scre...   \n",
              "4  [safaricom_care, getting, otp, several, time, ...   \n",
              "5  [cutie_, safaricom_care, iconic_gravity, itsmj...   \n",
              "6                               [fb, safaricom_care]   \n",
              "7  [c_hir_i, hello, view, detailed, data, usage, ...   \n",
              "8  [safaricom_care, message, kaa, hii, ni, kitu, ...   \n",
              "9  [saf_for_you, face_with_diagonal_mouthface_wit...   \n",
              "\n",
              "                                        stop_words  \n",
              "0                                               []  \n",
              "1                              [what, are, of, is]  \n",
              "2                                               []  \n",
              "3                       [a, of, the, for, to, and]  \n",
              "4      [am, some, of, them, at, this, of, the, my]  \n",
              "5                                               []  \n",
              "6                                               []  \n",
              "7  [you, can, on, this, if, you, a, with, this, a]  \n",
              "8                                               []  \n",
              "9                                               []  "
            ],
            "text/html": [
              "\n",
              "  <div id=\"df-36fe153e-fb45-4316-b3d5-9b12a8a404de\">\n",
              "    <div class=\"colab-df-container\">\n",
              "      <div>\n",
              "<style scoped>\n",
              "    .dataframe tbody tr th:only-of-type {\n",
              "        vertical-align: middle;\n",
              "    }\n",
              "\n",
              "    .dataframe tbody tr th {\n",
              "        vertical-align: top;\n",
              "    }\n",
              "\n",
              "    .dataframe thead th {\n",
              "        text-align: right;\n",
              "    }\n",
              "</style>\n",
              "<table border=\"1\" class=\"dataframe\">\n",
              "  <thead>\n",
              "    <tr style=\"text-align: right;\">\n",
              "      <th></th>\n",
              "      <th>Date</th>\n",
              "      <th>User</th>\n",
              "      <th>Tweet</th>\n",
              "      <th>Tweets</th>\n",
              "      <th>stop_words</th>\n",
              "    </tr>\n",
              "  </thead>\n",
              "  <tbody>\n",
              "    <tr>\n",
              "      <th>0</th>\n",
              "      <td>2022-10-23 23:37:49+00:00</td>\n",
              "      <td>samsabwa</td>\n",
              "      <td>@waxspell @Safaricom_Care @AskPayPal sponyo al...</td>\n",
              "      <td>[waxspell, safaricom_care, askpaypal, sponyo, ...</td>\n",
              "      <td>[]</td>\n",
              "    </tr>\n",
              "    <tr>\n",
              "      <th>1</th>\n",
              "      <td>2022-10-23 23:36:25+00:00</td>\n",
              "      <td>zac124</td>\n",
              "      <td>@Safaricom_Care @SafaricomPLC \\n\\nwhat are off...</td>\n",
              "      <td>[safaricom_care, safaricomplc, official, roami...</td>\n",
              "      <td>[what, are, of, is]</td>\n",
              "    </tr>\n",
              "    <tr>\n",
              "      <th>2</th>\n",
              "      <td>2022-10-23 23:19:35+00:00</td>\n",
              "      <td>tonui_ke</td>\n",
              "      <td>@Safaricom_Care check DM</td>\n",
              "      <td>[safaricom_care, check, dm]</td>\n",
              "      <td>[]</td>\n",
              "    </tr>\n",
              "    <tr>\n",
              "      <th>3</th>\n",
              "      <td>2022-10-23 22:14:19+00:00</td>\n",
              "      <td>Safaricom_Care</td>\n",
              "      <td>@martinkanini Hello Martin, please DM https://...</td>\n",
              "      <td>[martinkanini, hello, martin, please, dm, scre...</td>\n",
              "      <td>[a, of, the, for, to, and]</td>\n",
              "    </tr>\n",
              "    <tr>\n",
              "      <th>4</th>\n",
              "      <td>2022-10-23 22:01:01+00:00</td>\n",
              "      <td>martinkanini</td>\n",
              "      <td>@Safaricom_Care am getting some OTP several of...</td>\n",
              "      <td>[safaricom_care, getting, otp, several, time, ...</td>\n",
              "      <td>[am, some, of, them, at, this, of, the, my]</td>\n",
              "    </tr>\n",
              "    <tr>\n",
              "      <th>5</th>\n",
              "      <td>2022-10-23 21:48:31+00:00</td>\n",
              "      <td>Reyherb254</td>\n",
              "      <td>@Cutie_254 @Safaricom_Care @iconic_gravity @it...</td>\n",
              "      <td>[cutie_, safaricom_care, iconic_gravity, itsmj...</td>\n",
              "      <td>[]</td>\n",
              "    </tr>\n",
              "    <tr>\n",
              "      <th>6</th>\n",
              "      <td>2022-10-23 21:29:20+00:00</td>\n",
              "      <td>Daktari_Kip</td>\n",
              "      <td>Fb @Safaricom_Care</td>\n",
              "      <td>[fb, safaricom_care]</td>\n",
              "      <td>[]</td>\n",
              "    </tr>\n",
              "    <tr>\n",
              "      <th>7</th>\n",
              "      <td>2022-10-23 21:20:20+00:00</td>\n",
              "      <td>Safaricom_Care</td>\n",
              "      <td>@c_hir_i Hello, you can view detailed data usa...</td>\n",
              "      <td>[c_hir_i, hello, view, detailed, data, usage, ...</td>\n",
              "      <td>[you, can, on, this, if, you, a, with, this, a]</td>\n",
              "    </tr>\n",
              "    <tr>\n",
              "      <th>8</th>\n",
              "      <td>2022-10-23 21:11:45+00:00</td>\n",
              "      <td>RotinhoD</td>\n",
              "      <td>@Safaricom_Care  message kaa hii ni kitu mnaan...</td>\n",
              "      <td>[safaricom_care, message, kaa, hii, ni, kitu, ...</td>\n",
              "      <td>[]</td>\n",
              "    </tr>\n",
              "    <tr>\n",
              "      <th>9</th>\n",
              "      <td>2022-10-23 21:08:48+00:00</td>\n",
              "      <td>c_hir_i</td>\n",
              "      <td>#saf_for_you\\n🫤🙄I guess niko #6G \\n@Safaricom_...</td>\n",
              "      <td>[saf_for_you, face_with_diagonal_mouthface_wit...</td>\n",
              "      <td>[]</td>\n",
              "    </tr>\n",
              "  </tbody>\n",
              "</table>\n",
              "</div>\n",
              "      <button class=\"colab-df-convert\" onclick=\"convertToInteractive('df-36fe153e-fb45-4316-b3d5-9b12a8a404de')\"\n",
              "              title=\"Convert this dataframe to an interactive table.\"\n",
              "              style=\"display:none;\">\n",
              "        \n",
              "  <svg xmlns=\"http://www.w3.org/2000/svg\" height=\"24px\"viewBox=\"0 0 24 24\"\n",
              "       width=\"24px\">\n",
              "    <path d=\"M0 0h24v24H0V0z\" fill=\"none\"/>\n",
              "    <path d=\"M18.56 5.44l.94 2.06.94-2.06 2.06-.94-2.06-.94-.94-2.06-.94 2.06-2.06.94zm-11 1L8.5 8.5l.94-2.06 2.06-.94-2.06-.94L8.5 2.5l-.94 2.06-2.06.94zm10 10l.94 2.06.94-2.06 2.06-.94-2.06-.94-.94-2.06-.94 2.06-2.06.94z\"/><path d=\"M17.41 7.96l-1.37-1.37c-.4-.4-.92-.59-1.43-.59-.52 0-1.04.2-1.43.59L10.3 9.45l-7.72 7.72c-.78.78-.78 2.05 0 2.83L4 21.41c.39.39.9.59 1.41.59.51 0 1.02-.2 1.41-.59l7.78-7.78 2.81-2.81c.8-.78.8-2.07 0-2.86zM5.41 20L4 18.59l7.72-7.72 1.47 1.35L5.41 20z\"/>\n",
              "  </svg>\n",
              "      </button>\n",
              "      \n",
              "  <style>\n",
              "    .colab-df-container {\n",
              "      display:flex;\n",
              "      flex-wrap:wrap;\n",
              "      gap: 12px;\n",
              "    }\n",
              "\n",
              "    .colab-df-convert {\n",
              "      background-color: #E8F0FE;\n",
              "      border: none;\n",
              "      border-radius: 50%;\n",
              "      cursor: pointer;\n",
              "      display: none;\n",
              "      fill: #1967D2;\n",
              "      height: 32px;\n",
              "      padding: 0 0 0 0;\n",
              "      width: 32px;\n",
              "    }\n",
              "\n",
              "    .colab-df-convert:hover {\n",
              "      background-color: #E2EBFA;\n",
              "      box-shadow: 0px 1px 2px rgba(60, 64, 67, 0.3), 0px 1px 3px 1px rgba(60, 64, 67, 0.15);\n",
              "      fill: #174EA6;\n",
              "    }\n",
              "\n",
              "    [theme=dark] .colab-df-convert {\n",
              "      background-color: #3B4455;\n",
              "      fill: #D2E3FC;\n",
              "    }\n",
              "\n",
              "    [theme=dark] .colab-df-convert:hover {\n",
              "      background-color: #434B5C;\n",
              "      box-shadow: 0px 1px 3px 1px rgba(0, 0, 0, 0.15);\n",
              "      filter: drop-shadow(0px 1px 2px rgba(0, 0, 0, 0.3));\n",
              "      fill: #FFFFFF;\n",
              "    }\n",
              "  </style>\n",
              "\n",
              "      <script>\n",
              "        const buttonEl =\n",
              "          document.querySelector('#df-36fe153e-fb45-4316-b3d5-9b12a8a404de button.colab-df-convert');\n",
              "        buttonEl.style.display =\n",
              "          google.colab.kernel.accessAllowed ? 'block' : 'none';\n",
              "\n",
              "        async function convertToInteractive(key) {\n",
              "          const element = document.querySelector('#df-36fe153e-fb45-4316-b3d5-9b12a8a404de');\n",
              "          const dataTable =\n",
              "            await google.colab.kernel.invokeFunction('convertToInteractive',\n",
              "                                                     [key], {});\n",
              "          if (!dataTable) return;\n",
              "\n",
              "          const docLinkHtml = 'Like what you see? Visit the ' +\n",
              "            '<a target=\"_blank\" href=https://colab.research.google.com/notebooks/data_table.ipynb>data table notebook</a>'\n",
              "            + ' to learn more about interactive tables.';\n",
              "          element.innerHTML = '';\n",
              "          dataTable['output_type'] = 'display_data';\n",
              "          await google.colab.output.renderOutput(dataTable, element);\n",
              "          const docLink = document.createElement('div');\n",
              "          docLink.innerHTML = docLinkHtml;\n",
              "          element.appendChild(docLink);\n",
              "        }\n",
              "      </script>\n",
              "    </div>\n",
              "  </div>\n",
              "  "
            ]
          },
          "metadata": {},
          "execution_count": 12
        }
      ]
    },
    {
      "cell_type": "code",
      "source": [
        "tweets_df.head()"
      ],
      "metadata": {
        "colab": {
          "base_uri": "https://localhost:8080/",
          "height": 337
        },
        "id": "XjWXi1k3ZMsW",
        "outputId": "f660866e-ef89-4c52-c11b-3e5305a91734"
      },
      "execution_count": 13,
      "outputs": [
        {
          "output_type": "execute_result",
          "data": {
            "text/plain": [
              "                        Date            User  \\\n",
              "0  2022-10-23 23:37:49+00:00        samsabwa   \n",
              "1  2022-10-23 23:36:25+00:00          zac124   \n",
              "2  2022-10-23 23:19:35+00:00        tonui_ke   \n",
              "3  2022-10-23 22:14:19+00:00  Safaricom_Care   \n",
              "4  2022-10-23 22:01:01+00:00    martinkanini   \n",
              "\n",
              "                                               Tweet  \\\n",
              "0  @waxspell @Safaricom_Care @AskPayPal sponyo al...   \n",
              "1  @Safaricom_Care @SafaricomPLC \\n\\nwhat are off...   \n",
              "2                           @Safaricom_Care check DM   \n",
              "3  @martinkanini Hello Martin, please DM https://...   \n",
              "4  @Safaricom_Care am getting some OTP several of...   \n",
              "\n",
              "                                              Tweets  \\\n",
              "0  [waxspell, safaricom_care, askpaypal, sponyo, ...   \n",
              "1  [safaricom_care, safaricomplc, official, roami...   \n",
              "2                        [safaricom_care, check, dm]   \n",
              "3  [martinkanini, hello, martin, please, dm, scre...   \n",
              "4  [safaricom_care, getting, otp, several, time, ...   \n",
              "\n",
              "                                    stop_words  \n",
              "0                                           []  \n",
              "1                          [what, are, of, is]  \n",
              "2                                           []  \n",
              "3                   [a, of, the, for, to, and]  \n",
              "4  [am, some, of, them, at, this, of, the, my]  "
            ],
            "text/html": [
              "\n",
              "  <div id=\"df-b1e0a97a-5cd6-449e-9f48-e9138094b45b\">\n",
              "    <div class=\"colab-df-container\">\n",
              "      <div>\n",
              "<style scoped>\n",
              "    .dataframe tbody tr th:only-of-type {\n",
              "        vertical-align: middle;\n",
              "    }\n",
              "\n",
              "    .dataframe tbody tr th {\n",
              "        vertical-align: top;\n",
              "    }\n",
              "\n",
              "    .dataframe thead th {\n",
              "        text-align: right;\n",
              "    }\n",
              "</style>\n",
              "<table border=\"1\" class=\"dataframe\">\n",
              "  <thead>\n",
              "    <tr style=\"text-align: right;\">\n",
              "      <th></th>\n",
              "      <th>Date</th>\n",
              "      <th>User</th>\n",
              "      <th>Tweet</th>\n",
              "      <th>Tweets</th>\n",
              "      <th>stop_words</th>\n",
              "    </tr>\n",
              "  </thead>\n",
              "  <tbody>\n",
              "    <tr>\n",
              "      <th>0</th>\n",
              "      <td>2022-10-23 23:37:49+00:00</td>\n",
              "      <td>samsabwa</td>\n",
              "      <td>@waxspell @Safaricom_Care @AskPayPal sponyo al...</td>\n",
              "      <td>[waxspell, safaricom_care, askpaypal, sponyo, ...</td>\n",
              "      <td>[]</td>\n",
              "    </tr>\n",
              "    <tr>\n",
              "      <th>1</th>\n",
              "      <td>2022-10-23 23:36:25+00:00</td>\n",
              "      <td>zac124</td>\n",
              "      <td>@Safaricom_Care @SafaricomPLC \\n\\nwhat are off...</td>\n",
              "      <td>[safaricom_care, safaricomplc, official, roami...</td>\n",
              "      <td>[what, are, of, is]</td>\n",
              "    </tr>\n",
              "    <tr>\n",
              "      <th>2</th>\n",
              "      <td>2022-10-23 23:19:35+00:00</td>\n",
              "      <td>tonui_ke</td>\n",
              "      <td>@Safaricom_Care check DM</td>\n",
              "      <td>[safaricom_care, check, dm]</td>\n",
              "      <td>[]</td>\n",
              "    </tr>\n",
              "    <tr>\n",
              "      <th>3</th>\n",
              "      <td>2022-10-23 22:14:19+00:00</td>\n",
              "      <td>Safaricom_Care</td>\n",
              "      <td>@martinkanini Hello Martin, please DM https://...</td>\n",
              "      <td>[martinkanini, hello, martin, please, dm, scre...</td>\n",
              "      <td>[a, of, the, for, to, and]</td>\n",
              "    </tr>\n",
              "    <tr>\n",
              "      <th>4</th>\n",
              "      <td>2022-10-23 22:01:01+00:00</td>\n",
              "      <td>martinkanini</td>\n",
              "      <td>@Safaricom_Care am getting some OTP several of...</td>\n",
              "      <td>[safaricom_care, getting, otp, several, time, ...</td>\n",
              "      <td>[am, some, of, them, at, this, of, the, my]</td>\n",
              "    </tr>\n",
              "  </tbody>\n",
              "</table>\n",
              "</div>\n",
              "      <button class=\"colab-df-convert\" onclick=\"convertToInteractive('df-b1e0a97a-5cd6-449e-9f48-e9138094b45b')\"\n",
              "              title=\"Convert this dataframe to an interactive table.\"\n",
              "              style=\"display:none;\">\n",
              "        \n",
              "  <svg xmlns=\"http://www.w3.org/2000/svg\" height=\"24px\"viewBox=\"0 0 24 24\"\n",
              "       width=\"24px\">\n",
              "    <path d=\"M0 0h24v24H0V0z\" fill=\"none\"/>\n",
              "    <path d=\"M18.56 5.44l.94 2.06.94-2.06 2.06-.94-2.06-.94-.94-2.06-.94 2.06-2.06.94zm-11 1L8.5 8.5l.94-2.06 2.06-.94-2.06-.94L8.5 2.5l-.94 2.06-2.06.94zm10 10l.94 2.06.94-2.06 2.06-.94-2.06-.94-.94-2.06-.94 2.06-2.06.94z\"/><path d=\"M17.41 7.96l-1.37-1.37c-.4-.4-.92-.59-1.43-.59-.52 0-1.04.2-1.43.59L10.3 9.45l-7.72 7.72c-.78.78-.78 2.05 0 2.83L4 21.41c.39.39.9.59 1.41.59.51 0 1.02-.2 1.41-.59l7.78-7.78 2.81-2.81c.8-.78.8-2.07 0-2.86zM5.41 20L4 18.59l7.72-7.72 1.47 1.35L5.41 20z\"/>\n",
              "  </svg>\n",
              "      </button>\n",
              "      \n",
              "  <style>\n",
              "    .colab-df-container {\n",
              "      display:flex;\n",
              "      flex-wrap:wrap;\n",
              "      gap: 12px;\n",
              "    }\n",
              "\n",
              "    .colab-df-convert {\n",
              "      background-color: #E8F0FE;\n",
              "      border: none;\n",
              "      border-radius: 50%;\n",
              "      cursor: pointer;\n",
              "      display: none;\n",
              "      fill: #1967D2;\n",
              "      height: 32px;\n",
              "      padding: 0 0 0 0;\n",
              "      width: 32px;\n",
              "    }\n",
              "\n",
              "    .colab-df-convert:hover {\n",
              "      background-color: #E2EBFA;\n",
              "      box-shadow: 0px 1px 2px rgba(60, 64, 67, 0.3), 0px 1px 3px 1px rgba(60, 64, 67, 0.15);\n",
              "      fill: #174EA6;\n",
              "    }\n",
              "\n",
              "    [theme=dark] .colab-df-convert {\n",
              "      background-color: #3B4455;\n",
              "      fill: #D2E3FC;\n",
              "    }\n",
              "\n",
              "    [theme=dark] .colab-df-convert:hover {\n",
              "      background-color: #434B5C;\n",
              "      box-shadow: 0px 1px 3px 1px rgba(0, 0, 0, 0.15);\n",
              "      filter: drop-shadow(0px 1px 2px rgba(0, 0, 0, 0.3));\n",
              "      fill: #FFFFFF;\n",
              "    }\n",
              "  </style>\n",
              "\n",
              "      <script>\n",
              "        const buttonEl =\n",
              "          document.querySelector('#df-b1e0a97a-5cd6-449e-9f48-e9138094b45b button.colab-df-convert');\n",
              "        buttonEl.style.display =\n",
              "          google.colab.kernel.accessAllowed ? 'block' : 'none';\n",
              "\n",
              "        async function convertToInteractive(key) {\n",
              "          const element = document.querySelector('#df-b1e0a97a-5cd6-449e-9f48-e9138094b45b');\n",
              "          const dataTable =\n",
              "            await google.colab.kernel.invokeFunction('convertToInteractive',\n",
              "                                                     [key], {});\n",
              "          if (!dataTable) return;\n",
              "\n",
              "          const docLinkHtml = 'Like what you see? Visit the ' +\n",
              "            '<a target=\"_blank\" href=https://colab.research.google.com/notebooks/data_table.ipynb>data table notebook</a>'\n",
              "            + ' to learn more about interactive tables.';\n",
              "          element.innerHTML = '';\n",
              "          dataTable['output_type'] = 'display_data';\n",
              "          await google.colab.output.renderOutput(dataTable, element);\n",
              "          const docLink = document.createElement('div');\n",
              "          docLink.innerHTML = docLinkHtml;\n",
              "          element.appendChild(docLink);\n",
              "        }\n",
              "      </script>\n",
              "    </div>\n",
              "  </div>\n",
              "  "
            ]
          },
          "metadata": {},
          "execution_count": 13
        }
      ]
    },
    {
      "cell_type": "code",
      "source": [
        "import string\n",
        "string.punctuation"
      ],
      "metadata": {
        "colab": {
          "base_uri": "https://localhost:8080/",
          "height": 35
        },
        "id": "5IJf_zIialV_",
        "outputId": "ab0f14d8-3012-4c60-84b0-c61e392af345"
      },
      "execution_count": 14,
      "outputs": [
        {
          "output_type": "execute_result",
          "data": {
            "text/plain": [
              "'!\"#$%&\\'()*+,-./:;<=>?@[\\\\]^_`{|}~'"
            ],
            "application/vnd.google.colaboratory.intrinsic+json": {
              "type": "string"
            }
          },
          "metadata": {},
          "execution_count": 14
        }
      ]
    },
    {
      "cell_type": "code",
      "source": [
        "from nltk.stem.porter import *\n",
        "stemmer = PorterStemmer()\n",
        "tweets_df[\"Tweets\"] = tweets_df[\"Tweets\"].apply(lambda x: [stemmer.stem(w) for w in x])\n",
        "tweets_df.head()"
      ],
      "metadata": {
        "colab": {
          "base_uri": "https://localhost:8080/",
          "height": 337
        },
        "id": "e22nq9ixatcv",
        "outputId": "6c91f28f-71cd-4166-d45a-56219b944e86"
      },
      "execution_count": 15,
      "outputs": [
        {
          "output_type": "execute_result",
          "data": {
            "text/plain": [
              "                        Date            User  \\\n",
              "0  2022-10-23 23:37:49+00:00        samsabwa   \n",
              "1  2022-10-23 23:36:25+00:00          zac124   \n",
              "2  2022-10-23 23:19:35+00:00        tonui_ke   \n",
              "3  2022-10-23 22:14:19+00:00  Safaricom_Care   \n",
              "4  2022-10-23 22:01:01+00:00    martinkanini   \n",
              "\n",
              "                                               Tweet  \\\n",
              "0  @waxspell @Safaricom_Care @AskPayPal sponyo al...   \n",
              "1  @Safaricom_Care @SafaricomPLC \\n\\nwhat are off...   \n",
              "2                           @Safaricom_Care check DM   \n",
              "3  @martinkanini Hello Martin, please DM https://...   \n",
              "4  @Safaricom_Care am getting some OTP several of...   \n",
              "\n",
              "                                              Tweets  \\\n",
              "0  [waxspel, safaricom_car, askpayp, sponyo, alif...   \n",
              "1  [safaricom_car, safaricomplc, offici, roam, ra...   \n",
              "2                         [safaricom_car, check, dm]   \n",
              "3  [martinkanini, hello, martin, pleas, dm, scree...   \n",
              "4  [safaricom_car, get, otp, sever, time, night, ...   \n",
              "\n",
              "                                    stop_words  \n",
              "0                                           []  \n",
              "1                          [what, are, of, is]  \n",
              "2                                           []  \n",
              "3                   [a, of, the, for, to, and]  \n",
              "4  [am, some, of, them, at, this, of, the, my]  "
            ],
            "text/html": [
              "\n",
              "  <div id=\"df-35d413aa-3979-41a7-8233-ad04e44f10ac\">\n",
              "    <div class=\"colab-df-container\">\n",
              "      <div>\n",
              "<style scoped>\n",
              "    .dataframe tbody tr th:only-of-type {\n",
              "        vertical-align: middle;\n",
              "    }\n",
              "\n",
              "    .dataframe tbody tr th {\n",
              "        vertical-align: top;\n",
              "    }\n",
              "\n",
              "    .dataframe thead th {\n",
              "        text-align: right;\n",
              "    }\n",
              "</style>\n",
              "<table border=\"1\" class=\"dataframe\">\n",
              "  <thead>\n",
              "    <tr style=\"text-align: right;\">\n",
              "      <th></th>\n",
              "      <th>Date</th>\n",
              "      <th>User</th>\n",
              "      <th>Tweet</th>\n",
              "      <th>Tweets</th>\n",
              "      <th>stop_words</th>\n",
              "    </tr>\n",
              "  </thead>\n",
              "  <tbody>\n",
              "    <tr>\n",
              "      <th>0</th>\n",
              "      <td>2022-10-23 23:37:49+00:00</td>\n",
              "      <td>samsabwa</td>\n",
              "      <td>@waxspell @Safaricom_Care @AskPayPal sponyo al...</td>\n",
              "      <td>[waxspel, safaricom_car, askpayp, sponyo, alif...</td>\n",
              "      <td>[]</td>\n",
              "    </tr>\n",
              "    <tr>\n",
              "      <th>1</th>\n",
              "      <td>2022-10-23 23:36:25+00:00</td>\n",
              "      <td>zac124</td>\n",
              "      <td>@Safaricom_Care @SafaricomPLC \\n\\nwhat are off...</td>\n",
              "      <td>[safaricom_car, safaricomplc, offici, roam, ra...</td>\n",
              "      <td>[what, are, of, is]</td>\n",
              "    </tr>\n",
              "    <tr>\n",
              "      <th>2</th>\n",
              "      <td>2022-10-23 23:19:35+00:00</td>\n",
              "      <td>tonui_ke</td>\n",
              "      <td>@Safaricom_Care check DM</td>\n",
              "      <td>[safaricom_car, check, dm]</td>\n",
              "      <td>[]</td>\n",
              "    </tr>\n",
              "    <tr>\n",
              "      <th>3</th>\n",
              "      <td>2022-10-23 22:14:19+00:00</td>\n",
              "      <td>Safaricom_Care</td>\n",
              "      <td>@martinkanini Hello Martin, please DM https://...</td>\n",
              "      <td>[martinkanini, hello, martin, pleas, dm, scree...</td>\n",
              "      <td>[a, of, the, for, to, and]</td>\n",
              "    </tr>\n",
              "    <tr>\n",
              "      <th>4</th>\n",
              "      <td>2022-10-23 22:01:01+00:00</td>\n",
              "      <td>martinkanini</td>\n",
              "      <td>@Safaricom_Care am getting some OTP several of...</td>\n",
              "      <td>[safaricom_car, get, otp, sever, time, night, ...</td>\n",
              "      <td>[am, some, of, them, at, this, of, the, my]</td>\n",
              "    </tr>\n",
              "  </tbody>\n",
              "</table>\n",
              "</div>\n",
              "      <button class=\"colab-df-convert\" onclick=\"convertToInteractive('df-35d413aa-3979-41a7-8233-ad04e44f10ac')\"\n",
              "              title=\"Convert this dataframe to an interactive table.\"\n",
              "              style=\"display:none;\">\n",
              "        \n",
              "  <svg xmlns=\"http://www.w3.org/2000/svg\" height=\"24px\"viewBox=\"0 0 24 24\"\n",
              "       width=\"24px\">\n",
              "    <path d=\"M0 0h24v24H0V0z\" fill=\"none\"/>\n",
              "    <path d=\"M18.56 5.44l.94 2.06.94-2.06 2.06-.94-2.06-.94-.94-2.06-.94 2.06-2.06.94zm-11 1L8.5 8.5l.94-2.06 2.06-.94-2.06-.94L8.5 2.5l-.94 2.06-2.06.94zm10 10l.94 2.06.94-2.06 2.06-.94-2.06-.94-.94-2.06-.94 2.06-2.06.94z\"/><path d=\"M17.41 7.96l-1.37-1.37c-.4-.4-.92-.59-1.43-.59-.52 0-1.04.2-1.43.59L10.3 9.45l-7.72 7.72c-.78.78-.78 2.05 0 2.83L4 21.41c.39.39.9.59 1.41.59.51 0 1.02-.2 1.41-.59l7.78-7.78 2.81-2.81c.8-.78.8-2.07 0-2.86zM5.41 20L4 18.59l7.72-7.72 1.47 1.35L5.41 20z\"/>\n",
              "  </svg>\n",
              "      </button>\n",
              "      \n",
              "  <style>\n",
              "    .colab-df-container {\n",
              "      display:flex;\n",
              "      flex-wrap:wrap;\n",
              "      gap: 12px;\n",
              "    }\n",
              "\n",
              "    .colab-df-convert {\n",
              "      background-color: #E8F0FE;\n",
              "      border: none;\n",
              "      border-radius: 50%;\n",
              "      cursor: pointer;\n",
              "      display: none;\n",
              "      fill: #1967D2;\n",
              "      height: 32px;\n",
              "      padding: 0 0 0 0;\n",
              "      width: 32px;\n",
              "    }\n",
              "\n",
              "    .colab-df-convert:hover {\n",
              "      background-color: #E2EBFA;\n",
              "      box-shadow: 0px 1px 2px rgba(60, 64, 67, 0.3), 0px 1px 3px 1px rgba(60, 64, 67, 0.15);\n",
              "      fill: #174EA6;\n",
              "    }\n",
              "\n",
              "    [theme=dark] .colab-df-convert {\n",
              "      background-color: #3B4455;\n",
              "      fill: #D2E3FC;\n",
              "    }\n",
              "\n",
              "    [theme=dark] .colab-df-convert:hover {\n",
              "      background-color: #434B5C;\n",
              "      box-shadow: 0px 1px 3px 1px rgba(0, 0, 0, 0.15);\n",
              "      filter: drop-shadow(0px 1px 2px rgba(0, 0, 0, 0.3));\n",
              "      fill: #FFFFFF;\n",
              "    }\n",
              "  </style>\n",
              "\n",
              "      <script>\n",
              "        const buttonEl =\n",
              "          document.querySelector('#df-35d413aa-3979-41a7-8233-ad04e44f10ac button.colab-df-convert');\n",
              "        buttonEl.style.display =\n",
              "          google.colab.kernel.accessAllowed ? 'block' : 'none';\n",
              "\n",
              "        async function convertToInteractive(key) {\n",
              "          const element = document.querySelector('#df-35d413aa-3979-41a7-8233-ad04e44f10ac');\n",
              "          const dataTable =\n",
              "            await google.colab.kernel.invokeFunction('convertToInteractive',\n",
              "                                                     [key], {});\n",
              "          if (!dataTable) return;\n",
              "\n",
              "          const docLinkHtml = 'Like what you see? Visit the ' +\n",
              "            '<a target=\"_blank\" href=https://colab.research.google.com/notebooks/data_table.ipynb>data table notebook</a>'\n",
              "            + ' to learn more about interactive tables.';\n",
              "          element.innerHTML = '';\n",
              "          dataTable['output_type'] = 'display_data';\n",
              "          await google.colab.output.renderOutput(dataTable, element);\n",
              "          const docLink = document.createElement('div');\n",
              "          docLink.innerHTML = docLinkHtml;\n",
              "          element.appendChild(docLink);\n",
              "        }\n",
              "      </script>\n",
              "    </div>\n",
              "  </div>\n",
              "  "
            ]
          },
          "metadata": {},
          "execution_count": 15
        }
      ]
    },
    {
      "cell_type": "code",
      "source": [
        "def remove_punct(text):\n",
        "  text = \" \".join([char for char in text if char not in string.punctuation])\n",
        "  text = re.sub('[0-9]+', '', text)\n",
        "  \n",
        "  \n",
        "  return text\n",
        "tweets_df['tweet_punct'] = tweets_df['Tweets'].apply(lambda x: remove_punct(x))"
      ],
      "metadata": {
        "id": "lgCOW-6va39P"
      },
      "execution_count": 16,
      "outputs": []
    },
    {
      "cell_type": "code",
      "source": [
        "tweets_df.head()"
      ],
      "metadata": {
        "colab": {
          "base_uri": "https://localhost:8080/",
          "height": 337
        },
        "id": "WQwGF21Ua8Bh",
        "outputId": "1ac105da-1c5e-4bff-81d9-dace034f1376"
      },
      "execution_count": 17,
      "outputs": [
        {
          "output_type": "execute_result",
          "data": {
            "text/plain": [
              "                        Date            User  \\\n",
              "0  2022-10-23 23:37:49+00:00        samsabwa   \n",
              "1  2022-10-23 23:36:25+00:00          zac124   \n",
              "2  2022-10-23 23:19:35+00:00        tonui_ke   \n",
              "3  2022-10-23 22:14:19+00:00  Safaricom_Care   \n",
              "4  2022-10-23 22:01:01+00:00    martinkanini   \n",
              "\n",
              "                                               Tweet  \\\n",
              "0  @waxspell @Safaricom_Care @AskPayPal sponyo al...   \n",
              "1  @Safaricom_Care @SafaricomPLC \\n\\nwhat are off...   \n",
              "2                           @Safaricom_Care check DM   \n",
              "3  @martinkanini Hello Martin, please DM https://...   \n",
              "4  @Safaricom_Care am getting some OTP several of...   \n",
              "\n",
              "                                              Tweets  \\\n",
              "0  [waxspel, safaricom_car, askpayp, sponyo, alif...   \n",
              "1  [safaricom_car, safaricomplc, offici, roam, ra...   \n",
              "2                         [safaricom_car, check, dm]   \n",
              "3  [martinkanini, hello, martin, pleas, dm, scree...   \n",
              "4  [safaricom_car, get, otp, sever, time, night, ...   \n",
              "\n",
              "                                    stop_words  \\\n",
              "0                                           []   \n",
              "1                          [what, are, of, is]   \n",
              "2                                           []   \n",
              "3                   [a, of, the, for, to, and]   \n",
              "4  [am, some, of, them, at, this, of, the, my]   \n",
              "\n",
              "                                         tweet_punct  \n",
              "0  waxspel safaricom_car askpayp sponyo alifinya ...  \n",
              "1  safaricom_car safaricomplc offici roam rate ma...  \n",
              "2                             safaricom_car check dm  \n",
              "3  martinkanini hello martin pleas dm screenshot ...  \n",
              "4  safaricom_car get otp sever time night is numb...  "
            ],
            "text/html": [
              "\n",
              "  <div id=\"df-8d59aa6a-d2bb-4d08-abd3-0c8111b1a48e\">\n",
              "    <div class=\"colab-df-container\">\n",
              "      <div>\n",
              "<style scoped>\n",
              "    .dataframe tbody tr th:only-of-type {\n",
              "        vertical-align: middle;\n",
              "    }\n",
              "\n",
              "    .dataframe tbody tr th {\n",
              "        vertical-align: top;\n",
              "    }\n",
              "\n",
              "    .dataframe thead th {\n",
              "        text-align: right;\n",
              "    }\n",
              "</style>\n",
              "<table border=\"1\" class=\"dataframe\">\n",
              "  <thead>\n",
              "    <tr style=\"text-align: right;\">\n",
              "      <th></th>\n",
              "      <th>Date</th>\n",
              "      <th>User</th>\n",
              "      <th>Tweet</th>\n",
              "      <th>Tweets</th>\n",
              "      <th>stop_words</th>\n",
              "      <th>tweet_punct</th>\n",
              "    </tr>\n",
              "  </thead>\n",
              "  <tbody>\n",
              "    <tr>\n",
              "      <th>0</th>\n",
              "      <td>2022-10-23 23:37:49+00:00</td>\n",
              "      <td>samsabwa</td>\n",
              "      <td>@waxspell @Safaricom_Care @AskPayPal sponyo al...</td>\n",
              "      <td>[waxspel, safaricom_car, askpayp, sponyo, alif...</td>\n",
              "      <td>[]</td>\n",
              "      <td>waxspel safaricom_car askpayp sponyo alifinya ...</td>\n",
              "    </tr>\n",
              "    <tr>\n",
              "      <th>1</th>\n",
              "      <td>2022-10-23 23:36:25+00:00</td>\n",
              "      <td>zac124</td>\n",
              "      <td>@Safaricom_Care @SafaricomPLC \\n\\nwhat are off...</td>\n",
              "      <td>[safaricom_car, safaricomplc, offici, roam, ra...</td>\n",
              "      <td>[what, are, of, is]</td>\n",
              "      <td>safaricom_car safaricomplc offici roam rate ma...</td>\n",
              "    </tr>\n",
              "    <tr>\n",
              "      <th>2</th>\n",
              "      <td>2022-10-23 23:19:35+00:00</td>\n",
              "      <td>tonui_ke</td>\n",
              "      <td>@Safaricom_Care check DM</td>\n",
              "      <td>[safaricom_car, check, dm]</td>\n",
              "      <td>[]</td>\n",
              "      <td>safaricom_car check dm</td>\n",
              "    </tr>\n",
              "    <tr>\n",
              "      <th>3</th>\n",
              "      <td>2022-10-23 22:14:19+00:00</td>\n",
              "      <td>Safaricom_Care</td>\n",
              "      <td>@martinkanini Hello Martin, please DM https://...</td>\n",
              "      <td>[martinkanini, hello, martin, pleas, dm, scree...</td>\n",
              "      <td>[a, of, the, for, to, and]</td>\n",
              "      <td>martinkanini hello martin pleas dm screenshot ...</td>\n",
              "    </tr>\n",
              "    <tr>\n",
              "      <th>4</th>\n",
              "      <td>2022-10-23 22:01:01+00:00</td>\n",
              "      <td>martinkanini</td>\n",
              "      <td>@Safaricom_Care am getting some OTP several of...</td>\n",
              "      <td>[safaricom_car, get, otp, sever, time, night, ...</td>\n",
              "      <td>[am, some, of, them, at, this, of, the, my]</td>\n",
              "      <td>safaricom_car get otp sever time night is numb...</td>\n",
              "    </tr>\n",
              "  </tbody>\n",
              "</table>\n",
              "</div>\n",
              "      <button class=\"colab-df-convert\" onclick=\"convertToInteractive('df-8d59aa6a-d2bb-4d08-abd3-0c8111b1a48e')\"\n",
              "              title=\"Convert this dataframe to an interactive table.\"\n",
              "              style=\"display:none;\">\n",
              "        \n",
              "  <svg xmlns=\"http://www.w3.org/2000/svg\" height=\"24px\"viewBox=\"0 0 24 24\"\n",
              "       width=\"24px\">\n",
              "    <path d=\"M0 0h24v24H0V0z\" fill=\"none\"/>\n",
              "    <path d=\"M18.56 5.44l.94 2.06.94-2.06 2.06-.94-2.06-.94-.94-2.06-.94 2.06-2.06.94zm-11 1L8.5 8.5l.94-2.06 2.06-.94-2.06-.94L8.5 2.5l-.94 2.06-2.06.94zm10 10l.94 2.06.94-2.06 2.06-.94-2.06-.94-.94-2.06-.94 2.06-2.06.94z\"/><path d=\"M17.41 7.96l-1.37-1.37c-.4-.4-.92-.59-1.43-.59-.52 0-1.04.2-1.43.59L10.3 9.45l-7.72 7.72c-.78.78-.78 2.05 0 2.83L4 21.41c.39.39.9.59 1.41.59.51 0 1.02-.2 1.41-.59l7.78-7.78 2.81-2.81c.8-.78.8-2.07 0-2.86zM5.41 20L4 18.59l7.72-7.72 1.47 1.35L5.41 20z\"/>\n",
              "  </svg>\n",
              "      </button>\n",
              "      \n",
              "  <style>\n",
              "    .colab-df-container {\n",
              "      display:flex;\n",
              "      flex-wrap:wrap;\n",
              "      gap: 12px;\n",
              "    }\n",
              "\n",
              "    .colab-df-convert {\n",
              "      background-color: #E8F0FE;\n",
              "      border: none;\n",
              "      border-radius: 50%;\n",
              "      cursor: pointer;\n",
              "      display: none;\n",
              "      fill: #1967D2;\n",
              "      height: 32px;\n",
              "      padding: 0 0 0 0;\n",
              "      width: 32px;\n",
              "    }\n",
              "\n",
              "    .colab-df-convert:hover {\n",
              "      background-color: #E2EBFA;\n",
              "      box-shadow: 0px 1px 2px rgba(60, 64, 67, 0.3), 0px 1px 3px 1px rgba(60, 64, 67, 0.15);\n",
              "      fill: #174EA6;\n",
              "    }\n",
              "\n",
              "    [theme=dark] .colab-df-convert {\n",
              "      background-color: #3B4455;\n",
              "      fill: #D2E3FC;\n",
              "    }\n",
              "\n",
              "    [theme=dark] .colab-df-convert:hover {\n",
              "      background-color: #434B5C;\n",
              "      box-shadow: 0px 1px 3px 1px rgba(0, 0, 0, 0.15);\n",
              "      filter: drop-shadow(0px 1px 2px rgba(0, 0, 0, 0.3));\n",
              "      fill: #FFFFFF;\n",
              "    }\n",
              "  </style>\n",
              "\n",
              "      <script>\n",
              "        const buttonEl =\n",
              "          document.querySelector('#df-8d59aa6a-d2bb-4d08-abd3-0c8111b1a48e button.colab-df-convert');\n",
              "        buttonEl.style.display =\n",
              "          google.colab.kernel.accessAllowed ? 'block' : 'none';\n",
              "\n",
              "        async function convertToInteractive(key) {\n",
              "          const element = document.querySelector('#df-8d59aa6a-d2bb-4d08-abd3-0c8111b1a48e');\n",
              "          const dataTable =\n",
              "            await google.colab.kernel.invokeFunction('convertToInteractive',\n",
              "                                                     [key], {});\n",
              "          if (!dataTable) return;\n",
              "\n",
              "          const docLinkHtml = 'Like what you see? Visit the ' +\n",
              "            '<a target=\"_blank\" href=https://colab.research.google.com/notebooks/data_table.ipynb>data table notebook</a>'\n",
              "            + ' to learn more about interactive tables.';\n",
              "          element.innerHTML = '';\n",
              "          dataTable['output_type'] = 'display_data';\n",
              "          await google.colab.output.renderOutput(dataTable, element);\n",
              "          const docLink = document.createElement('div');\n",
              "          docLink.innerHTML = docLinkHtml;\n",
              "          element.appendChild(docLink);\n",
              "        }\n",
              "      </script>\n",
              "    </div>\n",
              "  </div>\n",
              "  "
            ]
          },
          "metadata": {},
          "execution_count": 17
        }
      ]
    },
    {
      "cell_type": "markdown",
      "source": [
        "Data Visualization(Word Cloud)"
      ],
      "metadata": {
        "id": "ZUjEFuP6dQyN"
      }
    },
    {
      "cell_type": "code",
      "source": [
        "import matplotlib.pyplot as plt\n",
        "all_words = ' '.join([text for text in df['Tweet']])\n",
        "from wordcloud import WordCloud\n",
        "wordcloud = WordCloud(width=800, height=500, random_state=21, max_font_size=110).generate(all_words)\n",
        "\n",
        "plt.figure(figsize=(10, 7))\n",
        "plt.imshow(wordcloud, interpolation=\"bilinear\")\n",
        "plt.axis('off')\n",
        "plt.show()"
      ],
      "metadata": {
        "colab": {
          "base_uri": "https://localhost:8080/",
          "height": 380
        },
        "id": "XG12w2zvdU25",
        "outputId": "992e3d82-1c63-4d08-f443-bc26ba0e1d96"
      },
      "execution_count": 18,
      "outputs": [
        {
          "output_type": "display_data",
          "data": {
            "text/plain": [
              "<Figure size 720x504 with 1 Axes>"
            ],
            "image/png": "[encoded data removed]"
          },
          "metadata": {
            "needs_background": "light"
          }
        }
      ]
    },
    {
      "cell_type": "markdown",
      "source": [
        "Get the most frequent words"
      ],
      "metadata": {
        "id": "QhmkMuE0eg4k"
      }
    },
    {
      "cell_type": "code",
      "source": [
        "from collections import Counter\n",
        "\n",
        "cnt = Counter()\n",
        "for text in df[\"Tweet\"].values:\n",
        "    for word in text.split():\n",
        "        cnt[word] += 1\n",
        "        \n",
        "cnt.most_common(20)"
      ],
      "metadata": {
        "colab": {
          "base_uri": "https://localhost:8080/"
        },
        "id": "ALEvU2M2ejBn",
        "outputId": "41290f80-e99e-47fc-d428-0ce53b9ba994"
      },
      "execution_count": 19,
      "outputs": [
        {
          "output_type": "execute_result",
          "data": {
            "text/plain": [
              "[('@Safaricom_Care', 4498),\n",
              " ('the', 1819),\n",
              " ('#Tuinuane', 1815),\n",
              " ('#CustomerObsessionMonth', 1663),\n",
              " ('to', 1346),\n",
              " ('na', 1314),\n",
              " ('*126#', 1285),\n",
              " ('and', 1246),\n",
              " ('bonga', 1006),\n",
              " ('number', 909),\n",
              " ('or', 875),\n",
              " ('points', 834),\n",
              " ('till', 787),\n",
              " ('Dial', 631),\n",
              " ('you', 592),\n",
              " ('Lipa', 592),\n",
              " ('I', 591),\n",
              " ('for', 577),\n",
              " ('Enter', 556),\n",
              " ('paybill', 549)]"
            ]
          },
          "metadata": {},
          "execution_count": 19
        }
      ]
    },
    {
      "cell_type": "markdown",
      "source": [
        "Using Vader Library to analyse sentiments in Text"
      ],
      "metadata": {
        "id": "7EwVGCAWeunn"
      }
    },
    {
      "cell_type": "code",
      "source": [
        "!pip install vaderSentiment"
      ],
      "metadata": {
        "colab": {
          "base_uri": "https://localhost:8080/"
        },
        "id": "Idg_0LkoexyD",
        "outputId": "e2f477f2-e495-41ab-e6d4-7735ecfbdb1a"
      },
      "execution_count": 20,
      "outputs": [
        {
          "output_type": "stream",
          "name": "stdout",
          "text": [
            "Looking in indexes: https://pypi.org/simple, https://us-python.pkg.dev/colab-wheels/public/simple/\n",
            "Collecting vaderSentiment\n",
            "  Downloading vaderSentiment-3.3.2-py2.py3-none-any.whl (125 kB)\n",
            "\u001b[K     |████████████████████████████████| 125 kB 9.3 MB/s \n",
            "\u001b[?25hRequirement already satisfied: requests in /usr/local/lib/python3.7/dist-packages (from vaderSentiment) (2.23.0)\n",
            "Requirement already satisfied: certifi>=2017.4.17 in /usr/local/lib/python3.7/dist-packages (from requests->vaderSentiment) (2022.9.24)\n",
            "Requirement already satisfied: urllib3!=1.25.0,!=1.25.1,<1.26,>=1.21.1 in /usr/local/lib/python3.7/dist-packages (from requests->vaderSentiment) (1.24.3)\n",
            "Requirement already satisfied: chardet<4,>=3.0.2 in /usr/local/lib/python3.7/dist-packages (from requests->vaderSentiment) (3.0.4)\n",
            "Requirement already satisfied: idna<3,>=2.5 in /usr/local/lib/python3.7/dist-packages (from requests->vaderSentiment) (2.10)\n",
            "Installing collected packages: vaderSentiment\n",
            "Successfully installed vaderSentiment-3.3.2\n"
          ]
        }
      ]
    },
    {
      "cell_type": "markdown",
      "source": [
        "Training of Dataset"
      ],
      "metadata": {
        "id": "1x17eVrKZalm"
      }
    },
    {
      "cell_type": "code",
      "source": [
        "from sklearn.cluster import KMeans\n",
        "from sklearn.decomposition import LatentDirichletAllocation\n",
        "from sklearn.feature_extraction.text import TfidfVectorizer\n",
        "from vaderSentiment.vaderSentiment import SentimentIntensityAnalyzer\n",
        "analyzer = SentimentIntensityAnalyzer()"
      ],
      "metadata": {
        "id": "LZBaJGtLZW9m"
      },
      "execution_count": 21,
      "outputs": []
    },
    {
      "cell_type": "markdown",
      "source": [
        "Getting the sentiments label"
      ],
      "metadata": {
        "id": "BQSvmjl2fBr_"
      }
    },
    {
      "cell_type": "code",
      "source": [
        "def sentiment_score_compound(sentence):\n",
        "    score = analyzer.polarity_scores(sentence)\n",
        "    return score['compound']\n",
        "\n",
        "def sentiment_score_pos(sentence):\n",
        "    score = analyzer.polarity_scores(sentence)\n",
        "    return score['pos']\n",
        "\n",
        "def sentiment_score_neg(sentence):\n",
        "    score = analyzer.polarity_scores(sentence)\n",
        "    return score['neg']\n",
        "\n",
        "def sentiment_score_neu(sentence):\n",
        "    score = analyzer.polarity_scores(sentence)\n",
        "    return score['neu']\n",
        "tweets_df[\"tweets_sent_compound\"] = tweets_df[\"Tweet\"].apply(lambda x: sentiment_score_compound(x))\n",
        "tweets_df[\"tweets_sent_pos\"] = tweets_df[\"Tweet\"].apply(lambda x: sentiment_score_pos(x))\n",
        "tweets_df[\"tweets_sent_neg\"] = tweets_df[\"Tweet\"].apply(lambda x: sentiment_score_neg(x))\n",
        "tweets_df.head()"
      ],
      "metadata": {
        "colab": {
          "base_uri": "https://localhost:8080/",
          "height": 424
        },
        "id": "vp3bGJo1fD3c",
        "outputId": "76451555-5f4e-468d-d296-db69414790a3"
      },
      "execution_count": 22,
      "outputs": [
        {
          "output_type": "execute_result",
          "data": {
            "text/plain": [
              "                        Date            User  \\\n",
              "0  2022-10-23 23:37:49+00:00        samsabwa   \n",
              "1  2022-10-23 23:36:25+00:00          zac124   \n",
              "2  2022-10-23 23:19:35+00:00        tonui_ke   \n",
              "3  2022-10-23 22:14:19+00:00  Safaricom_Care   \n",
              "4  2022-10-23 22:01:01+00:00    martinkanini   \n",
              "\n",
              "                                               Tweet  \\\n",
              "0  @waxspell @Safaricom_Care @AskPayPal sponyo al...   \n",
              "1  @Safaricom_Care @SafaricomPLC \\n\\nwhat are off...   \n",
              "2                           @Safaricom_Care check DM   \n",
              "3  @martinkanini Hello Martin, please DM https://...   \n",
              "4  @Safaricom_Care am getting some OTP several of...   \n",
              "\n",
              "                                              Tweets  \\\n",
              "0  [waxspel, safaricom_car, askpayp, sponyo, alif...   \n",
              "1  [safaricom_car, safaricomplc, offici, roam, ra...   \n",
              "2                         [safaricom_car, check, dm]   \n",
              "3  [martinkanini, hello, martin, pleas, dm, scree...   \n",
              "4  [safaricom_car, get, otp, sever, time, night, ...   \n",
              "\n",
              "                                    stop_words  \\\n",
              "0                                           []   \n",
              "1                          [what, are, of, is]   \n",
              "2                                           []   \n",
              "3                   [a, of, the, for, to, and]   \n",
              "4  [am, some, of, them, at, this, of, the, my]   \n",
              "\n",
              "                                         tweet_punct  tweets_sent_compound  \\\n",
              "0  waxspel safaricom_car askpayp sponyo alifinya ...                0.0000   \n",
              "1  safaricom_car safaricomplc offici roam rate ma...                0.0000   \n",
              "2                             safaricom_car check dm                0.0000   \n",
              "3  martinkanini hello martin pleas dm screenshot ...                0.3182   \n",
              "4  safaricom_car get otp sever time night is numb...                0.4939   \n",
              "\n",
              "   tweets_sent_pos  tweets_sent_neg  \n",
              "0            0.000              0.0  \n",
              "1            0.000              0.0  \n",
              "2            0.000              0.0  \n",
              "3            0.119              0.0  \n",
              "4            0.208              0.0  "
            ],
            "text/html": [
              "\n",
              "  <div id=\"df-73839cec-5a6e-497d-ba77-9e71ba15acaa\">\n",
              "    <div class=\"colab-df-container\">\n",
              "      <div>\n",
              "<style scoped>\n",
              "    .dataframe tbody tr th:only-of-type {\n",
              "        vertical-align: middle;\n",
              "    }\n",
              "\n",
              "    .dataframe tbody tr th {\n",
              "        vertical-align: top;\n",
              "    }\n",
              "\n",
              "    .dataframe thead th {\n",
              "        text-align: right;\n",
              "    }\n",
              "</style>\n",
              "<table border=\"1\" class=\"dataframe\">\n",
              "  <thead>\n",
              "    <tr style=\"text-align: right;\">\n",
              "      <th></th>\n",
              "      <th>Date</th>\n",
              "      <th>User</th>\n",
              "      <th>Tweet</th>\n",
              "      <th>Tweets</th>\n",
              "      <th>stop_words</th>\n",
              "      <th>tweet_punct</th>\n",
              "      <th>tweets_sent_compound</th>\n",
              "      <th>tweets_sent_pos</th>\n",
              "      <th>tweets_sent_neg</th>\n",
              "    </tr>\n",
              "  </thead>\n",
              "  <tbody>\n",
              "    <tr>\n",
              "      <th>0</th>\n",
              "      <td>2022-10-23 23:37:49+00:00</td>\n",
              "      <td>samsabwa</td>\n",
              "      <td>@waxspell @Safaricom_Care @AskPayPal sponyo al...</td>\n",
              "      <td>[waxspel, safaricom_car, askpayp, sponyo, alif...</td>\n",
              "      <td>[]</td>\n",
              "      <td>waxspel safaricom_car askpayp sponyo alifinya ...</td>\n",
              "      <td>0.0000</td>\n",
              "      <td>0.000</td>\n",
              "      <td>0.0</td>\n",
              "    </tr>\n",
              "    <tr>\n",
              "      <th>1</th>\n",
              "      <td>2022-10-23 23:36:25+00:00</td>\n",
              "      <td>zac124</td>\n",
              "      <td>@Safaricom_Care @SafaricomPLC \\n\\nwhat are off...</td>\n",
              "      <td>[safaricom_car, safaricomplc, offici, roam, ra...</td>\n",
              "      <td>[what, are, of, is]</td>\n",
              "      <td>safaricom_car safaricomplc offici roam rate ma...</td>\n",
              "      <td>0.0000</td>\n",
              "      <td>0.000</td>\n",
              "      <td>0.0</td>\n",
              "    </tr>\n",
              "    <tr>\n",
              "      <th>2</th>\n",
              "      <td>2022-10-23 23:19:35+00:00</td>\n",
              "      <td>tonui_ke</td>\n",
              "      <td>@Safaricom_Care check DM</td>\n",
              "      <td>[safaricom_car, check, dm]</td>\n",
              "      <td>[]</td>\n",
              "      <td>safaricom_car check dm</td>\n",
              "      <td>0.0000</td>\n",
              "      <td>0.000</td>\n",
              "      <td>0.0</td>\n",
              "    </tr>\n",
              "    <tr>\n",
              "      <th>3</th>\n",
              "      <td>2022-10-23 22:14:19+00:00</td>\n",
              "      <td>Safaricom_Care</td>\n",
              "      <td>@martinkanini Hello Martin, please DM https://...</td>\n",
              "      <td>[martinkanini, hello, martin, pleas, dm, scree...</td>\n",
              "      <td>[a, of, the, for, to, and]</td>\n",
              "      <td>martinkanini hello martin pleas dm screenshot ...</td>\n",
              "      <td>0.3182</td>\n",
              "      <td>0.119</td>\n",
              "      <td>0.0</td>\n",
              "    </tr>\n",
              "    <tr>\n",
              "      <th>4</th>\n",
              "      <td>2022-10-23 22:01:01+00:00</td>\n",
              "      <td>martinkanini</td>\n",
              "      <td>@Safaricom_Care am getting some OTP several of...</td>\n",
              "      <td>[safaricom_car, get, otp, sever, time, night, ...</td>\n",
              "      <td>[am, some, of, them, at, this, of, the, my]</td>\n",
              "      <td>safaricom_car get otp sever time night is numb...</td>\n",
              "      <td>0.4939</td>\n",
              "      <td>0.208</td>\n",
              "      <td>0.0</td>\n",
              "    </tr>\n",
              "  </tbody>\n",
              "</table>\n",
              "</div>\n",
              "      <button class=\"colab-df-convert\" onclick=\"convertToInteractive('df-73839cec-5a6e-497d-ba77-9e71ba15acaa')\"\n",
              "              title=\"Convert this dataframe to an interactive table.\"\n",
              "              style=\"display:none;\">\n",
              "        \n",
              "  <svg xmlns=\"http://www.w3.org/2000/svg\" height=\"24px\"viewBox=\"0 0 24 24\"\n",
              "       width=\"24px\">\n",
              "    <path d=\"M0 0h24v24H0V0z\" fill=\"none\"/>\n",
              "    <path d=\"M18.56 5.44l.94 2.06.94-2.06 2.06-.94-2.06-.94-.94-2.06-.94 2.06-2.06.94zm-11 1L8.5 8.5l.94-2.06 2.06-.94-2.06-.94L8.5 2.5l-.94 2.06-2.06.94zm10 10l.94 2.06.94-2.06 2.06-.94-2.06-.94-.94-2.06-.94 2.06-2.06.94z\"/><path d=\"M17.41 7.96l-1.37-1.37c-.4-.4-.92-.59-1.43-.59-.52 0-1.04.2-1.43.59L10.3 9.45l-7.72 7.72c-.78.78-.78 2.05 0 2.83L4 21.41c.39.39.9.59 1.41.59.51 0 1.02-.2 1.41-.59l7.78-7.78 2.81-2.81c.8-.78.8-2.07 0-2.86zM5.41 20L4 18.59l7.72-7.72 1.47 1.35L5.41 20z\"/>\n",
              "  </svg>\n",
              "      </button>\n",
              "      \n",
              "  <style>\n",
              "    .colab-df-container {\n",
              "      display:flex;\n",
              "      flex-wrap:wrap;\n",
              "      gap: 12px;\n",
              "    }\n",
              "\n",
              "    .colab-df-convert {\n",
              "      background-color: #E8F0FE;\n",
              "      border: none;\n",
              "      border-radius: 50%;\n",
              "      cursor: pointer;\n",
              "      display: none;\n",
              "      fill: #1967D2;\n",
              "      height: 32px;\n",
              "      padding: 0 0 0 0;\n",
              "      width: 32px;\n",
              "    }\n",
              "\n",
              "    .colab-df-convert:hover {\n",
              "      background-color: #E2EBFA;\n",
              "      box-shadow: 0px 1px 2px rgba(60, 64, 67, 0.3), 0px 1px 3px 1px rgba(60, 64, 67, 0.15);\n",
              "      fill: #174EA6;\n",
              "    }\n",
              "\n",
              "    [theme=dark] .colab-df-convert {\n",
              "      background-color: #3B4455;\n",
              "      fill: #D2E3FC;\n",
              "    }\n",
              "\n",
              "    [theme=dark] .colab-df-convert:hover {\n",
              "      background-color: #434B5C;\n",
              "      box-shadow: 0px 1px 3px 1px rgba(0, 0, 0, 0.15);\n",
              "      filter: drop-shadow(0px 1px 2px rgba(0, 0, 0, 0.3));\n",
              "      fill: #FFFFFF;\n",
              "    }\n",
              "  </style>\n",
              "\n",
              "      <script>\n",
              "        const buttonEl =\n",
              "          document.querySelector('#df-73839cec-5a6e-497d-ba77-9e71ba15acaa button.colab-df-convert');\n",
              "        buttonEl.style.display =\n",
              "          google.colab.kernel.accessAllowed ? 'block' : 'none';\n",
              "\n",
              "        async function convertToInteractive(key) {\n",
              "          const element = document.querySelector('#df-73839cec-5a6e-497d-ba77-9e71ba15acaa');\n",
              "          const dataTable =\n",
              "            await google.colab.kernel.invokeFunction('convertToInteractive',\n",
              "                                                     [key], {});\n",
              "          if (!dataTable) return;\n",
              "\n",
              "          const docLinkHtml = 'Like what you see? Visit the ' +\n",
              "            '<a target=\"_blank\" href=https://colab.research.google.com/notebooks/data_table.ipynb>data table notebook</a>'\n",
              "            + ' to learn more about interactive tables.';\n",
              "          element.innerHTML = '';\n",
              "          dataTable['output_type'] = 'display_data';\n",
              "          await google.colab.output.renderOutput(dataTable, element);\n",
              "          const docLink = document.createElement('div');\n",
              "          docLink.innerHTML = docLinkHtml;\n",
              "          element.appendChild(docLink);\n",
              "        }\n",
              "      </script>\n",
              "    </div>\n",
              "  </div>\n",
              "  "
            ]
          },
          "metadata": {},
          "execution_count": 22
        }
      ]
    },
    {
      "cell_type": "code",
      "source": [
        "tweets_df.tail()"
      ],
      "metadata": {
        "colab": {
          "base_uri": "https://localhost:8080/",
          "height": 458
        },
        "id": "A2F9DcD3fn3I",
        "outputId": "4fc12a84-f14e-4c48-b57c-cac6b7e7a0c8"
      },
      "execution_count": 23,
      "outputs": [
        {
          "output_type": "execute_result",
          "data": {
            "text/plain": [
              "                           Date             User  \\\n",
              "4995  2022-10-20 11:51:05+00:00   campas_kijanaa   \n",
              "4996  2022-10-20 11:51:01+00:00  KiplagatEvans16   \n",
              "4997  2022-10-20 11:50:48+00:00   Safaricom_Care   \n",
              "4998  2022-10-20 11:50:45+00:00    Agropons_Farm   \n",
              "4999  2022-10-20 11:50:45+00:00        Baas_mkuu   \n",
              "\n",
              "                                                  Tweet  \\\n",
              "4995  @Safaricom_Care They were so generous\\n#Tuinua...   \n",
              "4996  @Safaricom_Care Nyi maumbwa hamtanijenga hiyo ...   \n",
              "4997  @muriukiabraham Hey Abraham,  request your mum...   \n",
              "4998  @Safaricom_Care It was great and I was satisfi...   \n",
              "4999  @Safaricom_Care Yes, nilisaidika instantly bil...   \n",
              "\n",
              "                                                 Tweets  \\\n",
              "4995  [safaricom_car, they, gener, tuinuan, customer...   \n",
              "4996  [safaricom_car, nyi, maumbwa, hamtanijenga, hi...   \n",
              "4997  [muriukiabraham, hey, abraham, request, mum, u...   \n",
              "4998  [safaricom_car, it, great, i, satisfi, tuinuan...   \n",
              "4999  [safaricom_car, ye, nilisaidika, instantli, bi...   \n",
              "\n",
              "                                             stop_words  \\\n",
              "4995                                         [were, so]   \n",
              "4996                                                 []   \n",
              "4997  [your, to, the, then, to, the, the, of, the, b...   \n",
              "4998                                    [was, and, was]   \n",
              "4999                          [but, the, is, but, very]   \n",
              "\n",
              "                                            tweet_punct  tweets_sent_compound  \\\n",
              "4995  safaricom_car they gener tuinuan customerobses...                0.6418   \n",
              "4996  safaricom_car nyi maumbwa hamtanijenga hiyo kr...               -0.2960   \n",
              "4997  muriukiabraham hey abraham request mum unblock...                0.0000   \n",
              "4998  safaricom_car it great i satisfi tuinuan custo...                0.7845   \n",
              "4999  safaricom_car ye nilisaidika instantli bilater...                0.6419   \n",
              "\n",
              "      tweets_sent_pos  tweets_sent_neg  \n",
              "4995            0.414            0.000  \n",
              "4996            0.000            0.180  \n",
              "4997            0.000            0.000  \n",
              "4998            0.434            0.000  \n",
              "4999            0.291            0.161  "
            ],
            "text/html": [
              "\n",
              "  <div id=\"df-93516171-1991-4c0e-8c27-08cad0463fc9\">\n",
              "    <div class=\"colab-df-container\">\n",
              "      <div>\n",
              "<style scoped>\n",
              "    .dataframe tbody tr th:only-of-type {\n",
              "        vertical-align: middle;\n",
              "    }\n",
              "\n",
              "    .dataframe tbody tr th {\n",
              "        vertical-align: top;\n",
              "    }\n",
              "\n",
              "    .dataframe thead th {\n",
              "        text-align: right;\n",
              "    }\n",
              "</style>\n",
              "<table border=\"1\" class=\"dataframe\">\n",
              "  <thead>\n",
              "    <tr style=\"text-align: right;\">\n",
              "      <th></th>\n",
              "      <th>Date</th>\n",
              "      <th>User</th>\n",
              "      <th>Tweet</th>\n",
              "      <th>Tweets</th>\n",
              "      <th>stop_words</th>\n",
              "      <th>tweet_punct</th>\n",
              "      <th>tweets_sent_compound</th>\n",
              "      <th>tweets_sent_pos</th>\n",
              "      <th>tweets_sent_neg</th>\n",
              "    </tr>\n",
              "  </thead>\n",
              "  <tbody>\n",
              "    <tr>\n",
              "      <th>4995</th>\n",
              "      <td>2022-10-20 11:51:05+00:00</td>\n",
              "      <td>campas_kijanaa</td>\n",
              "      <td>@Safaricom_Care They were so generous\\n#Tuinua...</td>\n",
              "      <td>[safaricom_car, they, gener, tuinuan, customer...</td>\n",
              "      <td>[were, so]</td>\n",
              "      <td>safaricom_car they gener tuinuan customerobses...</td>\n",
              "      <td>0.6418</td>\n",
              "      <td>0.414</td>\n",
              "      <td>0.000</td>\n",
              "    </tr>\n",
              "    <tr>\n",
              "      <th>4996</th>\n",
              "      <td>2022-10-20 11:51:01+00:00</td>\n",
              "      <td>KiplagatEvans16</td>\n",
              "      <td>@Safaricom_Care Nyi maumbwa hamtanijenga hiyo ...</td>\n",
              "      <td>[safaricom_car, nyi, maumbwa, hamtanijenga, hi...</td>\n",
              "      <td>[]</td>\n",
              "      <td>safaricom_car nyi maumbwa hamtanijenga hiyo kr...</td>\n",
              "      <td>-0.2960</td>\n",
              "      <td>0.000</td>\n",
              "      <td>0.180</td>\n",
              "    </tr>\n",
              "    <tr>\n",
              "      <th>4997</th>\n",
              "      <td>2022-10-20 11:50:48+00:00</td>\n",
              "      <td>Safaricom_Care</td>\n",
              "      <td>@muriukiabraham Hey Abraham,  request your mum...</td>\n",
              "      <td>[muriukiabraham, hey, abraham, request, mum, u...</td>\n",
              "      <td>[your, to, the, then, to, the, the, of, the, b...</td>\n",
              "      <td>muriukiabraham hey abraham request mum unblock...</td>\n",
              "      <td>0.0000</td>\n",
              "      <td>0.000</td>\n",
              "      <td>0.000</td>\n",
              "    </tr>\n",
              "    <tr>\n",
              "      <th>4998</th>\n",
              "      <td>2022-10-20 11:50:45+00:00</td>\n",
              "      <td>Agropons_Farm</td>\n",
              "      <td>@Safaricom_Care It was great and I was satisfi...</td>\n",
              "      <td>[safaricom_car, it, great, i, satisfi, tuinuan...</td>\n",
              "      <td>[was, and, was]</td>\n",
              "      <td>safaricom_car it great i satisfi tuinuan custo...</td>\n",
              "      <td>0.7845</td>\n",
              "      <td>0.434</td>\n",
              "      <td>0.000</td>\n",
              "    </tr>\n",
              "    <tr>\n",
              "      <th>4999</th>\n",
              "      <td>2022-10-20 11:50:45+00:00</td>\n",
              "      <td>Baas_mkuu</td>\n",
              "      <td>@Safaricom_Care Yes, nilisaidika instantly bil...</td>\n",
              "      <td>[safaricom_car, ye, nilisaidika, instantli, bi...</td>\n",
              "      <td>[but, the, is, but, very]</td>\n",
              "      <td>safaricom_car ye nilisaidika instantli bilater...</td>\n",
              "      <td>0.6419</td>\n",
              "      <td>0.291</td>\n",
              "      <td>0.161</td>\n",
              "    </tr>\n",
              "  </tbody>\n",
              "</table>\n",
              "</div>\n",
              "      <button class=\"colab-df-convert\" onclick=\"convertToInteractive('df-93516171-1991-4c0e-8c27-08cad0463fc9')\"\n",
              "              title=\"Convert this dataframe to an interactive table.\"\n",
              "              style=\"display:none;\">\n",
              "        \n",
              "  <svg xmlns=\"http://www.w3.org/2000/svg\" height=\"24px\"viewBox=\"0 0 24 24\"\n",
              "       width=\"24px\">\n",
              "    <path d=\"M0 0h24v24H0V0z\" fill=\"none\"/>\n",
              "    <path d=\"M18.56 5.44l.94 2.06.94-2.06 2.06-.94-2.06-.94-.94-2.06-.94 2.06-2.06.94zm-11 1L8.5 8.5l.94-2.06 2.06-.94-2.06-.94L8.5 2.5l-.94 2.06-2.06.94zm10 10l.94 2.06.94-2.06 2.06-.94-2.06-.94-.94-2.06-.94 2.06-2.06.94z\"/><path d=\"M17.41 7.96l-1.37-1.37c-.4-.4-.92-.59-1.43-.59-.52 0-1.04.2-1.43.59L10.3 9.45l-7.72 7.72c-.78.78-.78 2.05 0 2.83L4 21.41c.39.39.9.59 1.41.59.51 0 1.02-.2 1.41-.59l7.78-7.78 2.81-2.81c.8-.78.8-2.07 0-2.86zM5.41 20L4 18.59l7.72-7.72 1.47 1.35L5.41 20z\"/>\n",
              "  </svg>\n",
              "      </button>\n",
              "      \n",
              "  <style>\n",
              "    .colab-df-container {\n",
              "      display:flex;\n",
              "      flex-wrap:wrap;\n",
              "      gap: 12px;\n",
              "    }\n",
              "\n",
              "    .colab-df-convert {\n",
              "      background-color: #E8F0FE;\n",
              "      border: none;\n",
              "      border-radius: 50%;\n",
              "      cursor: pointer;\n",
              "      display: none;\n",
              "      fill: #1967D2;\n",
              "      height: 32px;\n",
              "      padding: 0 0 0 0;\n",
              "      width: 32px;\n",
              "    }\n",
              "\n",
              "    .colab-df-convert:hover {\n",
              "      background-color: #E2EBFA;\n",
              "      box-shadow: 0px 1px 2px rgba(60, 64, 67, 0.3), 0px 1px 3px 1px rgba(60, 64, 67, 0.15);\n",
              "      fill: #174EA6;\n",
              "    }\n",
              "\n",
              "    [theme=dark] .colab-df-convert {\n",
              "      background-color: #3B4455;\n",
              "      fill: #D2E3FC;\n",
              "    }\n",
              "\n",
              "    [theme=dark] .colab-df-convert:hover {\n",
              "      background-color: #434B5C;\n",
              "      box-shadow: 0px 1px 3px 1px rgba(0, 0, 0, 0.15);\n",
              "      filter: drop-shadow(0px 1px 2px rgba(0, 0, 0, 0.3));\n",
              "      fill: #FFFFFF;\n",
              "    }\n",
              "  </style>\n",
              "\n",
              "      <script>\n",
              "        const buttonEl =\n",
              "          document.querySelector('#df-93516171-1991-4c0e-8c27-08cad0463fc9 button.colab-df-convert');\n",
              "        buttonEl.style.display =\n",
              "          google.colab.kernel.accessAllowed ? 'block' : 'none';\n",
              "\n",
              "        async function convertToInteractive(key) {\n",
              "          const element = document.querySelector('#df-93516171-1991-4c0e-8c27-08cad0463fc9');\n",
              "          const dataTable =\n",
              "            await google.colab.kernel.invokeFunction('convertToInteractive',\n",
              "                                                     [key], {});\n",
              "          if (!dataTable) return;\n",
              "\n",
              "          const docLinkHtml = 'Like what you see? Visit the ' +\n",
              "            '<a target=\"_blank\" href=https://colab.research.google.com/notebooks/data_table.ipynb>data table notebook</a>'\n",
              "            + ' to learn more about interactive tables.';\n",
              "          element.innerHTML = '';\n",
              "          dataTable['output_type'] = 'display_data';\n",
              "          await google.colab.output.renderOutput(dataTable, element);\n",
              "          const docLink = document.createElement('div');\n",
              "          docLink.innerHTML = docLinkHtml;\n",
              "          element.appendChild(docLink);\n",
              "        }\n",
              "      </script>\n",
              "    </div>\n",
              "  </div>\n",
              "  "
            ]
          },
          "metadata": {},
          "execution_count": 23
        }
      ]
    },
    {
      "cell_type": "code",
      "source": [
        "import nltk\n",
        "wordlist = nltk.FreqDist(all_words)\n",
        "word_features = wordlist.keys()"
      ],
      "metadata": {
        "id": "J1xqCt8qfqxW"
      },
      "execution_count": 24,
      "outputs": []
    },
    {
      "cell_type": "markdown",
      "source": [
        "Vectorization"
      ],
      "metadata": {
        "id": "ND0vhG2SgAp1"
      }
    },
    {
      "cell_type": "code",
      "source": [
        "from sklearn.feature_extraction.text import CountVectorizer\n",
        "cv = CountVectorizer()\n",
        "tweets_list = []\n",
        "for tweet in tweets_df[\"tweet_punct\"]:\n",
        "  \n",
        "  tweets_list.append(tweet)\n",
        "len(tweets_list)\n",
        "tfIdf = TfidfVectorizer(max_features=20000)"
      ],
      "metadata": {
        "id": "kel-Ig9PZz1t"
      },
      "execution_count": 25,
      "outputs": []
    },
    {
      "cell_type": "code",
      "source": [
        "X = tweets_df[\"tweet_punct\"]\n",
        "\n",
        "vec = TfidfVectorizer(min_df=5, max_df=0.95, sublinear_tf = True,use_idf = True,ngram_range=(1, 2))\n",
        "len(all_words)"
      ],
      "metadata": {
        "colab": {
          "base_uri": "https://localhost:8080/"
        },
        "id": "CyUD75enYGo6",
        "outputId": "a3278947-5a74-4297-9c79-90a828ca6b44"
      },
      "execution_count": 26,
      "outputs": [
        {
          "output_type": "execute_result",
          "data": {
            "text/plain": [
              "546906"
            ]
          },
          "metadata": {},
          "execution_count": 26
        }
      ]
    },
    {
      "cell_type": "markdown",
      "source": [
        "Define Label"
      ],
      "metadata": {
        "id": "i8twbIgIYWIa"
      }
    },
    {
      "cell_type": "code",
      "source": [
        "def label_value(val):\n",
        "  if val < 0:\n",
        "    return 0\n",
        "  elif val == 0:\n",
        "    return 1\n",
        "  else:\n",
        "    return 2\n",
        "tweets_df[\"label\"] = tweets_df[\"tweets_sent_compound\"].apply(lambda x: label_value(x))\n",
        "tweets_df.head()"
      ],
      "metadata": {
        "colab": {
          "base_uri": "https://localhost:8080/",
          "height": 476
        },
        "id": "DFRLQwsnYXiU",
        "outputId": "73d13d00-4ea9-4043-df0a-081b4e783483"
      },
      "execution_count": 27,
      "outputs": [
        {
          "output_type": "execute_result",
          "data": {
            "text/plain": [
              "                        Date            User  \\\n",
              "0  2022-10-23 23:37:49+00:00        samsabwa   \n",
              "1  2022-10-23 23:36:25+00:00          zac124   \n",
              "2  2022-10-23 23:19:35+00:00        tonui_ke   \n",
              "3  2022-10-23 22:14:19+00:00  Safaricom_Care   \n",
              "4  2022-10-23 22:01:01+00:00    martinkanini   \n",
              "\n",
              "                                               Tweet  \\\n",
              "0  @waxspell @Safaricom_Care @AskPayPal sponyo al...   \n",
              "1  @Safaricom_Care @SafaricomPLC \\n\\nwhat are off...   \n",
              "2                           @Safaricom_Care check DM   \n",
              "3  @martinkanini Hello Martin, please DM https://...   \n",
              "4  @Safaricom_Care am getting some OTP several of...   \n",
              "\n",
              "                                              Tweets  \\\n",
              "0  [waxspel, safaricom_car, askpayp, sponyo, alif...   \n",
              "1  [safaricom_car, safaricomplc, offici, roam, ra...   \n",
              "2                         [safaricom_car, check, dm]   \n",
              "3  [martinkanini, hello, martin, pleas, dm, scree...   \n",
              "4  [safaricom_car, get, otp, sever, time, night, ...   \n",
              "\n",
              "                                    stop_words  \\\n",
              "0                                           []   \n",
              "1                          [what, are, of, is]   \n",
              "2                                           []   \n",
              "3                   [a, of, the, for, to, and]   \n",
              "4  [am, some, of, them, at, this, of, the, my]   \n",
              "\n",
              "                                         tweet_punct  tweets_sent_compound  \\\n",
              "0  waxspel safaricom_car askpayp sponyo alifinya ...                0.0000   \n",
              "1  safaricom_car safaricomplc offici roam rate ma...                0.0000   \n",
              "2                             safaricom_car check dm                0.0000   \n",
              "3  martinkanini hello martin pleas dm screenshot ...                0.3182   \n",
              "4  safaricom_car get otp sever time night is numb...                0.4939   \n",
              "\n",
              "   tweets_sent_pos  tweets_sent_neg  label  \n",
              "0            0.000              0.0      1  \n",
              "1            0.000              0.0      1  \n",
              "2            0.000              0.0      1  \n",
              "3            0.119              0.0      2  \n",
              "4            0.208              0.0      2  "
            ],
            "text/html": [
              "\n",
              "  <div id=\"df-beb48ebc-19e4-4d29-82b9-379c48667460\">\n",
              "    <div class=\"colab-df-container\">\n",
              "      <div>\n",
              "<style scoped>\n",
              "    .dataframe tbody tr th:only-of-type {\n",
              "        vertical-align: middle;\n",
              "    }\n",
              "\n",
              "    .dataframe tbody tr th {\n",
              "        vertical-align: top;\n",
              "    }\n",
              "\n",
              "    .dataframe thead th {\n",
              "        text-align: right;\n",
              "    }\n",
              "</style>\n",
              "<table border=\"1\" class=\"dataframe\">\n",
              "  <thead>\n",
              "    <tr style=\"text-align: right;\">\n",
              "      <th></th>\n",
              "      <th>Date</th>\n",
              "      <th>User</th>\n",
              "      <th>Tweet</th>\n",
              "      <th>Tweets</th>\n",
              "      <th>stop_words</th>\n",
              "      <th>tweet_punct</th>\n",
              "      <th>tweets_sent_compound</th>\n",
              "      <th>tweets_sent_pos</th>\n",
              "      <th>tweets_sent_neg</th>\n",
              "      <th>label</th>\n",
              "    </tr>\n",
              "  </thead>\n",
              "  <tbody>\n",
              "    <tr>\n",
              "      <th>0</th>\n",
              "      <td>2022-10-23 23:37:49+00:00</td>\n",
              "      <td>samsabwa</td>\n",
              "      <td>@waxspell @Safaricom_Care @AskPayPal sponyo al...</td>\n",
              "      <td>[waxspel, safaricom_car, askpayp, sponyo, alif...</td>\n",
              "      <td>[]</td>\n",
              "      <td>waxspel safaricom_car askpayp sponyo alifinya ...</td>\n",
              "      <td>0.0000</td>\n",
              "      <td>0.000</td>\n",
              "      <td>0.0</td>\n",
              "      <td>1</td>\n",
              "    </tr>\n",
              "    <tr>\n",
              "      <th>1</th>\n",
              "      <td>2022-10-23 23:36:25+00:00</td>\n",
              "      <td>zac124</td>\n",
              "      <td>@Safaricom_Care @SafaricomPLC \\n\\nwhat are off...</td>\n",
              "      <td>[safaricom_car, safaricomplc, offici, roam, ra...</td>\n",
              "      <td>[what, are, of, is]</td>\n",
              "      <td>safaricom_car safaricomplc offici roam rate ma...</td>\n",
              "      <td>0.0000</td>\n",
              "      <td>0.000</td>\n",
              "      <td>0.0</td>\n",
              "      <td>1</td>\n",
              "    </tr>\n",
              "    <tr>\n",
              "      <th>2</th>\n",
              "      <td>2022-10-23 23:19:35+00:00</td>\n",
              "      <td>tonui_ke</td>\n",
              "      <td>@Safaricom_Care check DM</td>\n",
              "      <td>[safaricom_car, check, dm]</td>\n",
              "      <td>[]</td>\n",
              "      <td>safaricom_car check dm</td>\n",
              "      <td>0.0000</td>\n",
              "      <td>0.000</td>\n",
              "      <td>0.0</td>\n",
              "      <td>1</td>\n",
              "    </tr>\n",
              "    <tr>\n",
              "      <th>3</th>\n",
              "      <td>2022-10-23 22:14:19+00:00</td>\n",
              "      <td>Safaricom_Care</td>\n",
              "      <td>@martinkanini Hello Martin, please DM https://...</td>\n",
              "      <td>[martinkanini, hello, martin, pleas, dm, scree...</td>\n",
              "      <td>[a, of, the, for, to, and]</td>\n",
              "      <td>martinkanini hello martin pleas dm screenshot ...</td>\n",
              "      <td>0.3182</td>\n",
              "      <td>0.119</td>\n",
              "      <td>0.0</td>\n",
              "      <td>2</td>\n",
              "    </tr>\n",
              "    <tr>\n",
              "      <th>4</th>\n",
              "      <td>2022-10-23 22:01:01+00:00</td>\n",
              "      <td>martinkanini</td>\n",
              "      <td>@Safaricom_Care am getting some OTP several of...</td>\n",
              "      <td>[safaricom_car, get, otp, sever, time, night, ...</td>\n",
              "      <td>[am, some, of, them, at, this, of, the, my]</td>\n",
              "      <td>safaricom_car get otp sever time night is numb...</td>\n",
              "      <td>0.4939</td>\n",
              "      <td>0.208</td>\n",
              "      <td>0.0</td>\n",
              "      <td>2</td>\n",
              "    </tr>\n",
              "  </tbody>\n",
              "</table>\n",
              "</div>\n",
              "      <button class=\"colab-df-convert\" onclick=\"convertToInteractive('df-beb48ebc-19e4-4d29-82b9-379c48667460')\"\n",
              "              title=\"Convert this dataframe to an interactive table.\"\n",
              "              style=\"display:none;\">\n",
              "        \n",
              "  <svg xmlns=\"http://www.w3.org/2000/svg\" height=\"24px\"viewBox=\"0 0 24 24\"\n",
              "       width=\"24px\">\n",
              "    <path d=\"M0 0h24v24H0V0z\" fill=\"none\"/>\n",
              "    <path d=\"M18.56 5.44l.94 2.06.94-2.06 2.06-.94-2.06-.94-.94-2.06-.94 2.06-2.06.94zm-11 1L8.5 8.5l.94-2.06 2.06-.94-2.06-.94L8.5 2.5l-.94 2.06-2.06.94zm10 10l.94 2.06.94-2.06 2.06-.94-2.06-.94-.94-2.06-.94 2.06-2.06.94z\"/><path d=\"M17.41 7.96l-1.37-1.37c-.4-.4-.92-.59-1.43-.59-.52 0-1.04.2-1.43.59L10.3 9.45l-7.72 7.72c-.78.78-.78 2.05 0 2.83L4 21.41c.39.39.9.59 1.41.59.51 0 1.02-.2 1.41-.59l7.78-7.78 2.81-2.81c.8-.78.8-2.07 0-2.86zM5.41 20L4 18.59l7.72-7.72 1.47 1.35L5.41 20z\"/>\n",
              "  </svg>\n",
              "      </button>\n",
              "      \n",
              "  <style>\n",
              "    .colab-df-container {\n",
              "      display:flex;\n",
              "      flex-wrap:wrap;\n",
              "      gap: 12px;\n",
              "    }\n",
              "\n",
              "    .colab-df-convert {\n",
              "      background-color: #E8F0FE;\n",
              "      border: none;\n",
              "      border-radius: 50%;\n",
              "      cursor: pointer;\n",
              "      display: none;\n",
              "      fill: #1967D2;\n",
              "      height: 32px;\n",
              "      padding: 0 0 0 0;\n",
              "      width: 32px;\n",
              "    }\n",
              "\n",
              "    .colab-df-convert:hover {\n",
              "      background-color: #E2EBFA;\n",
              "      box-shadow: 0px 1px 2px rgba(60, 64, 67, 0.3), 0px 1px 3px 1px rgba(60, 64, 67, 0.15);\n",
              "      fill: #174EA6;\n",
              "    }\n",
              "\n",
              "    [theme=dark] .colab-df-convert {\n",
              "      background-color: #3B4455;\n",
              "      fill: #D2E3FC;\n",
              "    }\n",
              "\n",
              "    [theme=dark] .colab-df-convert:hover {\n",
              "      background-color: #434B5C;\n",
              "      box-shadow: 0px 1px 3px 1px rgba(0, 0, 0, 0.15);\n",
              "      filter: drop-shadow(0px 1px 2px rgba(0, 0, 0, 0.3));\n",
              "      fill: #FFFFFF;\n",
              "    }\n",
              "  </style>\n",
              "\n",
              "      <script>\n",
              "        const buttonEl =\n",
              "          document.querySelector('#df-beb48ebc-19e4-4d29-82b9-379c48667460 button.colab-df-convert');\n",
              "        buttonEl.style.display =\n",
              "          google.colab.kernel.accessAllowed ? 'block' : 'none';\n",
              "\n",
              "        async function convertToInteractive(key) {\n",
              "          const element = document.querySelector('#df-beb48ebc-19e4-4d29-82b9-379c48667460');\n",
              "          const dataTable =\n",
              "            await google.colab.kernel.invokeFunction('convertToInteractive',\n",
              "                                                     [key], {});\n",
              "          if (!dataTable) return;\n",
              "\n",
              "          const docLinkHtml = 'Like what you see? Visit the ' +\n",
              "            '<a target=\"_blank\" href=https://colab.research.google.com/notebooks/data_table.ipynb>data table notebook</a>'\n",
              "            + ' to learn more about interactive tables.';\n",
              "          element.innerHTML = '';\n",
              "          dataTable['output_type'] = 'display_data';\n",
              "          await google.colab.output.renderOutput(dataTable, element);\n",
              "          const docLink = document.createElement('div');\n",
              "          docLink.innerHTML = docLinkHtml;\n",
              "          element.appendChild(docLink);\n",
              "        }\n",
              "      </script>\n",
              "    </div>\n",
              "  </div>\n",
              "  "
            ]
          },
          "metadata": {},
          "execution_count": 27
        }
      ]
    },
    {
      "cell_type": "code",
      "source": [
        "from sklearn.feature_extraction.text import CountVectorizer\n",
        "\n",
        "cv = CountVectorizer(binary=True)\n",
        "cv.fit(tweets_list)\n",
        "X = cv.transform(tweets_list)\n",
        "y = tweets_df[\"label\"].values"
      ],
      "metadata": {
        "id": "iydfG0TWcDKI"
      },
      "execution_count": 28,
      "outputs": []
    },
    {
      "cell_type": "markdown",
      "source": [
        "Classification using SVM"
      ],
      "metadata": {
        "id": "RIAJIRsDcNxF"
      }
    },
    {
      "cell_type": "code",
      "source": [
        "#encoder = preprocessing.LabelEncoder()\n",
        "#X = tfIdf.fit_transform(df['Text'])\n",
        "#y = df['tweets_sent_compound']\n",
        "#X.shape         "
      ],
      "metadata": {
        "id": "6jiWspD0aLNI"
      },
      "execution_count": 29,
      "outputs": []
    },
    {
      "cell_type": "code",
      "source": [
        "#X_train, X_test, y_train, y_test= train_test_split(X,y, test_size=0.2, random_state=0)\n",
        "#encoder = preprocessing.LabelEncoder()\n",
        "#y_train = encoder.fit_transform(y_train)\n",
        "#y_test = encoder.fit_transform(y_test)"
      ],
      "metadata": {
        "id": "R8RMvWsSbSdz"
      },
      "execution_count": 30,
      "outputs": []
    },
    {
      "cell_type": "code",
      "source": [
        "from sklearn.metrics import accuracy_score, classification_report, confusion_matrix\n",
        "from sklearn.model_selection import train_test_split\n",
        "X_train, X_val, y_train, y_val = train_test_split( X, y, train_size = 0.2, random_state = 0)"
      ],
      "metadata": {
        "id": "3-LJmU0UWkbs"
      },
      "execution_count": 37,
      "outputs": []
    },
    {
      "cell_type": "code",
      "source": [
        "from sklearn.svm import LinearSVC\n",
        "epochs = 20\n",
        "for epoch in range(epochs):\n",
        "  print(f'Epochs: {epoch + 1}')\n",
        "  train_loss = 0\n",
        "  valid_loss = 0\n",
        "\n",
        "  ngram_vectorizer = CountVectorizer(binary=True, ngram_range=(1, 3))\n",
        "  ngram_vectorizer.fit(tweets_list)\n",
        "  X = ngram_vectorizer.transform(tweets_list)\n",
        "  y = tweets_df[\"label\"].values\n",
        "  X_train, X_val, y_train, y_val = train_test_split(X, y, train_size = 0.2, random_state = 0)\n",
        "  svm = LinearSVC()\n",
        "  svm.fit(X_train, y_train)\n"
      ],
      "metadata": {
        "colab": {
          "base_uri": "https://localhost:8080/"
        },
        "id": "apsbUdsqccl5",
        "outputId": "205a0f86-282a-4d8a-912b-bb8ed2e1817e"
      },
      "execution_count": 32,
      "outputs": [
        {
          "output_type": "stream",
          "name": "stdout",
          "text": [
            "Epochs: 1\n",
            "Epochs: 2\n",
            "Epochs: 3\n",
            "Epochs: 4\n",
            "Epochs: 5\n",
            "Epochs: 6\n",
            "Epochs: 7\n",
            "Epochs: 8\n",
            "Epochs: 9\n",
            "Epochs: 10\n",
            "Epochs: 11\n",
            "Epochs: 12\n",
            "Epochs: 13\n",
            "Epochs: 14\n",
            "Epochs: 15\n",
            "Epochs: 16\n",
            "Epochs: 17\n",
            "Epochs: 18\n",
            "Epochs: 19\n",
            "Epochs: 20\n"
          ]
        }
      ]
    },
    {
      "cell_type": "code",
      "source": [
        "#clf = LinearSVC()\n",
        "#clf.fit(X_train, y_train)"
      ],
      "metadata": {
        "id": "KVnEWYhVbeUx"
      },
      "execution_count": 33,
      "outputs": []
    },
    {
      "cell_type": "code",
      "source": [
        "pred = svm.predict(X_val)\n",
        "print(\"Accuracy: \",accuracy_score(y_val, pred))\n",
        "print(classification_report(y_val, pred))\n",
        "print(confusion_matrix(y_val, pred))"
      ],
      "metadata": {
        "colab": {
          "base_uri": "https://localhost:8080/"
        },
        "id": "02lSKNfefs2U",
        "outputId": "5bcfcd76-92dd-4eb7-e9af-6824667521f4"
      },
      "execution_count": 34,
      "outputs": [
        {
          "output_type": "stream",
          "name": "stdout",
          "text": [
            "Accuracy:  0.7515\n",
            "              precision    recall  f1-score   support\n",
            "\n",
            "           0       0.84      0.35      0.50       541\n",
            "           1       0.65      0.95      0.77      1485\n",
            "           2       0.88      0.71      0.79      1974\n",
            "\n",
            "    accuracy                           0.75      4000\n",
            "   macro avg       0.79      0.67      0.68      4000\n",
            "weighted avg       0.79      0.75      0.74      4000\n",
            "\n",
            "[[ 191  225  125]\n",
            " [   5 1407   73]\n",
            " [  31  535 1408]]\n"
          ]
        }
      ]
    },
    {
      "cell_type": "markdown",
      "source": [
        "TF-IDF Vectroization"
      ],
      "metadata": {
        "id": "k9H1j98rdGfY"
      }
    },
    {
      "cell_type": "code",
      "source": [
        "for epoch in range(epochs):\n",
        "  print(f'Epochs: {epoch + 1}')\n",
        "  train_loss = 0\n",
        "  valid_loss = 0\n",
        "\n",
        "  tfidf_vectorizer = TfidfVectorizer()\n",
        "  tfidf_vectorizer.fit(tweets_list)\n",
        "  X = tfidf_vectorizer.transform(tweets_list)\n",
        "  y = tweets_df[\"label\"].values\n",
        "\n",
        "  X_train, X_val, y_train, y_val = train_test_split(X, y, train_size = 0.2, random_state = 0)"
      ],
      "metadata": {
        "id": "dht_btO6c-Uq",
        "colab": {
          "base_uri": "https://localhost:8080/"
        },
        "outputId": "4902000d-dd35-4756-8100-283393f0293a"
      },
      "execution_count": 35,
      "outputs": [
        {
          "output_type": "stream",
          "name": "stdout",
          "text": [
            "Epochs: 1\n",
            "Epochs: 2\n",
            "Epochs: 3\n",
            "Epochs: 4\n",
            "Epochs: 5\n",
            "Epochs: 6\n",
            "Epochs: 7\n",
            "Epochs: 8\n",
            "Epochs: 9\n",
            "Epochs: 10\n",
            "Epochs: 11\n",
            "Epochs: 12\n",
            "Epochs: 13\n",
            "Epochs: 14\n",
            "Epochs: 15\n",
            "Epochs: 16\n",
            "Epochs: 17\n",
            "Epochs: 18\n",
            "Epochs: 19\n",
            "Epochs: 20\n"
          ]
        }
      ]
    },
    {
      "cell_type": "code",
      "source": [
        "svm = LinearSVC()\n",
        "svm.fit(X_train, y_train)\n",
        "pred = svm.predict(X_val)\n",
        "print(\"Accuracy: \",accuracy_score(y_val, pred))\n",
        "print(classification_report(y_val, pred))\n",
        "print(confusion_matrix(y_val, pred))"
      ],
      "metadata": {
        "colab": {
          "base_uri": "https://localhost:8080/"
        },
        "id": "isRB_LUcdMzt",
        "outputId": "fd5980bc-5b8a-4407-fcd8-5ea5c80bc4ae"
      },
      "execution_count": 36,
      "outputs": [
        {
          "output_type": "stream",
          "name": "stdout",
          "text": [
            "0.75475\n",
            "              precision    recall  f1-score   support\n",
            "\n",
            "           0       0.84      0.37      0.51       541\n",
            "           1       0.71      0.83      0.77      1485\n",
            "           2       0.78      0.80      0.79      1974\n",
            "\n",
            "    accuracy                           0.75      4000\n",
            "   macro avg       0.78      0.67      0.69      4000\n",
            "weighted avg       0.76      0.75      0.75      4000\n",
            "\n",
            "[[ 201  144  196]\n",
            " [   9 1229  247]\n",
            " [  30  355 1589]]\n"
          ]
        }
      ]
    },
    {
      "cell_type": "markdown",
      "source": [
        "Classification using Logistic Regression"
      ],
      "metadata": {
        "id": "1pTNWAjoMdfH"
      }
    },
    {
      "cell_type": "code",
      "source": [
        "from sklearn.linear_model import LogisticRegression"
      ],
      "metadata": {
        "id": "KJTfm-yRMiGI"
      },
      "execution_count": 38,
      "outputs": []
    },
    {
      "cell_type": "code",
      "source": [
        "lr = LogisticRegression()\n",
        "lr.fit(X_train, y_train)"
      ],
      "metadata": {
        "colab": {
          "base_uri": "https://localhost:8080/"
        },
        "id": "TTntorGGMoST",
        "outputId": "455b6e85-95be-4aff-a42d-3dd6dbef4dbb"
      },
      "execution_count": 39,
      "outputs": [
        {
          "output_type": "execute_result",
          "data": {
            "text/plain": [
              "LogisticRegression()"
            ]
          },
          "metadata": {},
          "execution_count": 39
        }
      ]
    },
    {
      "cell_type": "code",
      "source": [
        "pred = lr.predict(X_val)\n",
        "print(\"Accuracy: \",accuracy_score(y_val, pred))\n",
        "print(classification_report(y_val, pred))\n",
        "print(confusion_matrix(y_val, pred))"
      ],
      "metadata": {
        "colab": {
          "base_uri": "https://localhost:8080/"
        },
        "id": "JuQyqStRMz8k",
        "outputId": "279ca78c-596a-4004-b71f-b6220e040d81"
      },
      "execution_count": 44,
      "outputs": [
        {
          "output_type": "stream",
          "name": "stdout",
          "text": [
            "Accuracy:  0.73125\n",
            "              precision    recall  f1-score   support\n",
            "\n",
            "           0       0.83      0.27      0.41       541\n",
            "           1       0.72      0.77      0.74      1485\n",
            "           2       0.73      0.83      0.78      1974\n",
            "\n",
            "    accuracy                           0.73      4000\n",
            "   macro avg       0.76      0.62      0.64      4000\n",
            "weighted avg       0.74      0.73      0.72      4000\n",
            "\n",
            "[[ 148  137  256]\n",
            " [   4 1142  339]\n",
            " [  26  313 1635]]\n"
          ]
        }
      ]
    },
    {
      "cell_type": "markdown",
      "source": [
        "Using TF-IDF Vectorization"
      ],
      "metadata": {
        "id": "6Cm4bHvLNBGg"
      }
    },
    {
      "cell_type": "code",
      "source": [
        "tfidf_vectorizer = TfidfVectorizer()\n",
        "tfidf_vectorizer.fit(tweets_list)\n",
        "X = tfidf_vectorizer.transform(tweets_list)\n",
        "y = tweets_df[\"label\"].values\n",
        "\n",
        "X_train, X_val, y_train, y_val = train_test_split(X, y, train_size = 0.2, random_state = 0)"
      ],
      "metadata": {
        "id": "IksYELo5M9e7"
      },
      "execution_count": 45,
      "outputs": []
    },
    {
      "cell_type": "code",
      "source": [
        "lr = LogisticRegression()\n",
        "lr.fit(X_train, y_train)"
      ],
      "metadata": {
        "colab": {
          "base_uri": "https://localhost:8080/"
        },
        "id": "yQwiFfQ4NJNX",
        "outputId": "01d61618-646f-4a05-878a-81fb7fdfa0b1"
      },
      "execution_count": 46,
      "outputs": [
        {
          "output_type": "execute_result",
          "data": {
            "text/plain": [
              "LogisticRegression()"
            ]
          },
          "metadata": {},
          "execution_count": 46
        }
      ]
    },
    {
      "cell_type": "code",
      "source": [
        "pred = lr.predict(X_val)\n",
        "print(\"Accuracy:\",accuracy_score(y_val, pred))\n",
        "print(classification_report(y_val, pred))\n",
        "print(confusion_matrix(y_val, pred))"
      ],
      "metadata": {
        "colab": {
          "base_uri": "https://localhost:8080/"
        },
        "id": "esYzHciCNM7x",
        "outputId": "a7a9c32e-1abe-4eb4-bb8c-bf299980ac47"
      },
      "execution_count": 47,
      "outputs": [
        {
          "output_type": "stream",
          "name": "stdout",
          "text": [
            "Accuracy: 0.73125\n",
            "              precision    recall  f1-score   support\n",
            "\n",
            "           0       0.83      0.27      0.41       541\n",
            "           1       0.72      0.77      0.74      1485\n",
            "           2       0.73      0.83      0.78      1974\n",
            "\n",
            "    accuracy                           0.73      4000\n",
            "   macro avg       0.76      0.62      0.64      4000\n",
            "weighted avg       0.74      0.73      0.72      4000\n",
            "\n",
            "[[ 148  137  256]\n",
            " [   4 1142  339]\n",
            " [  26  313 1635]]\n"
          ]
        }
      ]
    },
    {
      "cell_type": "markdown",
      "source": [
        "Classification using Naives Bayes"
      ],
      "metadata": {
        "id": "zCuPHlPbNhKg"
      }
    },
    {
      "cell_type": "code",
      "source": [
        "from sklearn.naive_bayes import MultinomialNB\n",
        "MNB = MultinomialNB()\n",
        "MNB.fit(X_train, y_train)\n",
        "pred = MNB.predict(X_val)\n",
        "print(accuracy_score(y_val, pred))\n",
        "print(classification_report(y_val, pred))\n",
        "print(confusion_matrix(y_val, pred))"
      ],
      "metadata": {
        "colab": {
          "base_uri": "https://localhost:8080/"
        },
        "id": "tbBcueTNNfF3",
        "outputId": "d723096b-cf3c-4ff9-cf7e-611cdc6cca40"
      },
      "execution_count": 48,
      "outputs": [
        {
          "output_type": "stream",
          "name": "stdout",
          "text": [
            "0.64075\n",
            "              precision    recall  f1-score   support\n",
            "\n",
            "           0       0.98      0.08      0.15       541\n",
            "           1       0.73      0.51      0.60      1485\n",
            "           2       0.60      0.90      0.72      1974\n",
            "\n",
            "    accuracy                           0.64      4000\n",
            "   macro avg       0.77      0.49      0.49      4000\n",
            "weighted avg       0.70      0.64      0.60      4000\n",
            "\n",
            "[[  43   76  422]\n",
            " [   0  751  734]\n",
            " [   1  204 1769]]\n"
          ]
        }
      ]
    },
    {
      "cell_type": "markdown",
      "source": [
        "TF-IDF Vectorization"
      ],
      "metadata": {
        "id": "svxhHiAANr9B"
      }
    },
    {
      "cell_type": "code",
      "source": [
        "tfidf_vectorizer = TfidfVectorizer()\n",
        "tfidf_vectorizer.fit(tweets_list)\n",
        "X = tfidf_vectorizer.transform(tweets_list)\n",
        "y = tweets_df[\"label\"].values\n",
        "\n",
        "X_train, X_val, y_train, y_val = train_test_split(X, y, train_size = 0.2, random_state = 0)\n",
        "MNB = MultinomialNB()\n",
        "MNB.fit(X_train, y_train)\n",
        "pred = MNB.predict(X_val)\n",
        "print(\"Accuracy: \",accuracy_score(y_val, pred))\n",
        "print(classification_report(y_val, pred))\n",
        "print(confusion_matrix(y_val, pred))"
      ],
      "metadata": {
        "colab": {
          "base_uri": "https://localhost:8080/"
        },
        "id": "Ejq2HlKBNrmk",
        "outputId": "a87eea15-fef4-4a14-f964-6de4fee672a1"
      },
      "execution_count": 49,
      "outputs": [
        {
          "output_type": "stream",
          "name": "stdout",
          "text": [
            "Accuracy:  0.64075\n",
            "              precision    recall  f1-score   support\n",
            "\n",
            "           0       0.98      0.08      0.15       541\n",
            "           1       0.73      0.51      0.60      1485\n",
            "           2       0.60      0.90      0.72      1974\n",
            "\n",
            "    accuracy                           0.64      4000\n",
            "   macro avg       0.77      0.49      0.49      4000\n",
            "weighted avg       0.70      0.64      0.60      4000\n",
            "\n",
            "[[  43   76  422]\n",
            " [   0  751  734]\n",
            " [   1  204 1769]]\n"
          ]
        }
      ]
    }
  ]
}